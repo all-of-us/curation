{
 "cells": [
  {
   "cell_type": "code",
   "execution_count": 1,
   "metadata": {},
   "outputs": [],
   "source": [
    "# parameters.py\n",
    "VOCABULARY_DATASET_ID = 'vocabulary20191003'\n",
    "RDR_DATASET_ID = 'rdr20190901'\n",
    "EHR_DATASET_ID = 'ehr_dataset_id'\n",
    "COMBINED_DATASET_ID = 'combined20191004v2'\n",
    "DEID_DATASET_ID = 'combined20191004v2_deid'\n",
    "DRC_BUCKET_NAME = 'drc_bucket_name'\n",
    "RDR_PROJECT_ID = 'rdr_project_id'\n",
    "SANDBOX = 'curation_sandbox'\n",
    "CONCEPT_DATASET_ID = 'concept20191003'\n",
    "\n",
    "LATEST_DATASET = 'aou-res-curation-prod.ehr_ops'\n"
   ]
  },
  {
   "cell_type": "code",
   "execution_count": null,
   "metadata": {},
   "outputs": [],
   "source": []
  }
 ],
 "metadata": {
  "jupytext": {
   "cell_metadata_filter": "-all",
   "notebook_metadata_filter": "-all",
   "text_representation": {
    "extension": ".py",
    "format_name": "light"
   }
  },
  "kernelspec": {
   "display_name": "Python 2",
   "language": "python",
   "name": "python2"
  },
  "language_info": {
   "codemirror_mode": {
    "name": "ipython",
    "version": 2
   },
   "file_extension": ".py",
   "mimetype": "text/x-python",
   "name": "python",
   "nbconvert_exporter": "python",
   "pygments_lexer": "ipython2",
   "version": "2.7.17"
  }
 },
 "nbformat": 4,
 "nbformat_minor": 2
}
