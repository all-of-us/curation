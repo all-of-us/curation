{
 "cells": [
  {
   "cell_type": "code",
   "execution_count": 2,
   "metadata": {
    "scrolled": false
   },
   "outputs": [
    {
     "name": "stdout",
     "output_type": "stream",
     "text": [
      "SELECT a.person_id,a.gender_concept_id,a.year_of_birth,a.month_of_birth,a.day_of_birth,a.race_concept_id,a.ethnicity_concept_id,a.location_id,a.provider_id,a.care_site_id,a.person_source_value,a.gender_source_value,a.gender_source_concept_id,a.race_source_value,a.race_source_concept_id,a.ethnicity_source_value,a.ethnicity_source_concept_id,birth_datetime FROM (\n",
      "                    SELECT person_id,gender_concept_id,year_of_birth,month_of_birth,day_of_birth,race_concept_id,ethnicity_concept_id,location_id,provider_id,care_site_id,person_source_value,gender_source_value,gender_source_concept_id,race_source_value,race_source_concept_id,ethnicity_source_value,ethnicity_source_concept_id\n",
      "                    FROM raw.person\n",
      "                ) a INNER JOIN (\n",
      "                        SELECT x.person_id,\n",
      "                DATE_DIFF( CAST(x.value_as_string AS DATE), CAST(__targetTable.birth_datetime AS DATE), DAY) as birth_datetime\n",
      "             \n",
      "                        FROM raw.observation x INNER JOIN \n",
      "                            raw.person __targetTable\n",
      "\n",
      "                        ON __targetTable.person_id = x.person_id \n",
      "                        WHERE x.observation_source_value = 'ExtraConsent_TodaysDate'\n",
      "                        \n",
      "                        AND x.person_id = 562270 \n",
      "                    ) p ON p.person_id  = a.person_id\n"
     ]
    }
   ],
   "source": [
    "\"\"\"\n",
    "    This notebook captures the process by which de-identification is ran against the AoUS bigquery database\n",
    "    @TODO:\n",
    "    - Need to add some form of logs to know what is going on at all times\n",
    "    - \n",
    "\"\"\"\n",
    "from __future__ import division\n",
    "import json\n",
    "from google.cloud import bigquery as bq\n",
    "\n",
    "from deid import *\n",
    "client = bq.Client.from_service_account_json('/home/steve/git/rdc/deid/config/account/account.json')\n",
    "Orchestrator(client=client,vocabulary_id='PPI',concept_class_id=['Question','PPI Modifier'],dataset='raw',table='person',fields=['value_as_number'])\n",
    "import sys\n",
    "del sys.modules['deid']"
   ]
  },
  {
   "cell_type": "code",
   "execution_count": null,
   "metadata": {},
   "outputs": [],
   "source": [
    "import os\n",
    "import pandas as pd\n",
    "from datetime import datetime\n",
    "\n",
    "ids = [329225,562270]\n",
    "path = '/home/steve/git/rdc/deid/config/account/account.json'\n",
    "os.environ['PANDAS_GBQ_CREDENTIALS_FILE']  = path\n",
    "df = pd.read_gbq('select * from raw.observation where person_id in( 562270,329225)',project_id='aou-res-deid-vumc-test',private_key=path)\n",
    "df[list(set(df.columns) - set(['value_as_number']))]\n",
    "p = df.filter(items = ['person_id','observation_source_value','value_as_string'])\n",
    "p = p.query(\"observation_source_value == 'ExtraConsent_TodaysDate'\" )\n",
    "p\n",
    "# date(p['value_as_string'][:1].values[0])\n",
    "# df "
   ]
  },
  {
   "cell_type": "code",
   "execution_count": null,
   "metadata": {},
   "outputs": [],
   "source": [
    "# from import datetime import datetime\n",
    "value=\"1985-05-07\"\n",
    "datetime.strptime(value,\"%Y-%m-%d\")\n",
    "client = bq.Client.from_service_account_json(path)\n",
    "\n",
    "f = open(path)\n",
    "account= json.loads(f.read())\n",
    "\n",
    "f.close()\n",
    "#r = client.query(\"select * from raw.person limit 1\",location='US')\n",
    "\n",
    "# job.error_result\n",
    "p = pd.read_gbq(\"select * from raw.observation limit 1\",project_id=account['project_id'],private_key=json.dumps(account))\n",
    "dtypes = p.ftypes \n",
    "dtypes\n",
    "date_fields = set(['date','datetime','timestamp'])\n",
    "[name for name in p.columns if (set(dtypes[name].replace(':dense','').replace('64','').split('[ns]')) & date_fields) or (set(name.split('_')) & date_fields)  ]\n",
    "# dtypes['person_id'].split(':')"
   ]
  },
  {
   "cell_type": "code",
   "execution_count": null,
   "metadata": {},
   "outputs": [],
   "source": [
    "\n",
    "#\n",
    "# This section performs suppression of PPI on a meta-table\n",
    "# @TODO INsure the way in which the PPI are identified is correct. You should make sure the dates aren't suppressed.\n",
    "# Dates will have to be shifted ()\n",
    "#\n",
    "handler = SuppressPPI(client=client)\n",
    "r = handler.can_do('raw')\n",
    "handler.do(i_dataset='raw',table_name='observation', o_dataset='out')"
   ]
  },
  {
   "cell_type": "code",
   "execution_count": null,
   "metadata": {},
   "outputs": [],
   "source": [
    "#\n",
    "# This section performs a suppression of fields from a non-meta table\n",
    "# A configureation should be provided to the class\n",
    "#\n",
    "config = {\"raw\":{\"person\":['year_of_birth','month_of_birth','day_of_birth']}}\n",
    "h = SuppressEHR(client=client,config = config)\n",
    "h.can_do('raw','person')\n",
    "h.do(i_dataset='raw',o_dataset='out',table_name='person')"
   ]
  },
  {
   "cell_type": "code",
   "execution_count": null,
   "metadata": {},
   "outputs": [],
   "source": [
    "#\n",
    "# This section will perform a date shifting on PPI and EHR\n",
    "# The date shifting operation will (to a certain degree) include suppression\n",
    "#\n",
    "h = Shift(client=client,vocabulary_id='PPI',concept_class_id=['Question','PPI Modifier'])\n",
    "[h.vocabulary_id,h.concept_sql]\n",
    "r = h.can_do('raw','observation')\n",
    "h.get('raw','observation')['fields']\n",
    "# h.do(i_dataset='raw',table_name='observation',o_dataset='out')\n",
    "# h.sql"
   ]
  },
  {
   "cell_type": "code",
   "execution_count": null,
   "metadata": {},
   "outputs": [],
   "source": [
    "# ref = client.dataset('raw').table('person')\n",
    "# info = client.get_table(ref).schema\n",
    "# [field.field_type for field in info]\n",
    "h = DropFields(client=client)\n",
    "h.can_do('raw','observation')\n",
    "\n",
    "# str(h.policies['raw.observation']).replace('\\n','')\n",
    "# h.get('raw','person')\n",
    "\n",
    "# fields = h.policies['raw.concept']\n",
    "# fields\n",
    "# str(fields.replace('\\n','').replace('  ',' '))"
   ]
  },
  {
   "cell_type": "code",
   "execution_count": null,
   "metadata": {},
   "outputs": [],
   "source": [
    "Orchestrator(client=client,vocabulary_id='PPI',concept_class_id=['Question','PPI Modifier'],dataset='raw',table='observation',fields=['person_id','value_as_number'])"
   ]
  },
  {
   "cell_type": "code",
   "execution_count": null,
   "metadata": {},
   "outputs": [],
   "source": []
  }
 ],
 "metadata": {
  "kernelspec": {
   "display_name": "Python 2",
   "language": "python",
   "name": "python2"
  },
  "language_info": {
   "codemirror_mode": {
    "name": "ipython",
    "version": 2
   },
   "file_extension": ".py",
   "mimetype": "text/x-python",
   "name": "python",
   "nbconvert_exporter": "python",
   "pygments_lexer": "ipython2",
   "version": "2.7.12"
  }
 },
 "nbformat": 4,
 "nbformat_minor": 2
}
