{
 "cells": [
  {
   "cell_type": "code",
   "execution_count": null,
   "metadata": {},
   "outputs": [],
   "source": [
    "from google.cloud import bigquery"
   ]
  },
  {
   "cell_type": "code",
   "execution_count": null,
   "metadata": {},
   "outputs": [],
   "source": [
    "client=bigquery.Client()"
   ]
  },
  {
   "cell_type": "code",
   "execution_count": null,
   "metadata": {},
   "outputs": [],
   "source": [
    "%load_ext google.cloud.bigquery"
   ]
  },
  {
   "cell_type": "code",
   "execution_count": null,
   "metadata": {},
   "outputs": [],
   "source": [
    "%reload_ext google.cloud.bigquery"
   ]
  },
  {
   "cell_type": "code",
   "execution_count": null,
   "metadata": {},
   "outputs": [],
   "source": [
    "#######################################\n",
    "print('Setting everything up...')\n",
    "#######################################\n",
    "\n",
    "import warnings\n",
    "warnings.filterwarnings('ignore')\n",
    "import pandas_gbq \n",
    "import pandas as pd\n",
    "import numpy as np\n",
    "import matplotlib\n",
    "import matplotlib.pyplot as plt\n",
    "import matplotlib.lines as mlines\n",
    "from matplotlib.lines import Line2D\n",
    "\n",
    "import matplotlib.ticker as ticker\n",
    "import matplotlib.cm as cm\n",
    "import matplotlib as mpl\n",
    "\n",
    "import matplotlib.pyplot as plt\n",
    "%matplotlib inline\n",
    "\n",
    "\n",
    "\n",
    "import os\n",
    "import sys\n",
    "from datetime import datetime\n",
    "from datetime import date\n",
    "from datetime import time\n",
    "from datetime import timedelta\n",
    "import time\n",
    "\n",
    "DATASET = ''\n",
    "\n",
    "plt.style.use('ggplot')\n",
    "pd.options.display.max_rows = 999\n",
    "pd.options.display.max_columns = 999\n",
    "pd.options.display.max_colwidth = 999\n",
    "\n",
    "from IPython.display import HTML as html_print\n",
    "\n",
    "def cstr(s, color='black'):\n",
    "    return \"<text style=color:{}>{}</text>\".format(color, s)\n",
    "\n",
    "\n",
    "print('done.')\n"
   ]
  },
  {
   "cell_type": "code",
   "execution_count": null,
   "metadata": {},
   "outputs": [],
   "source": [
    "dic={'src_hpo_id':[\"trans_am_essentia\",\"saou_ummc\",\"seec_miami\",\"seec_morehouse\",\"seec_emory\",\"uamc_banner\",\"pitt\",\"nyc_cu\",\"ipmc_uic\",\"trans_am_spectrum\",\"tach_hfhs\",\"nec_bmc\",\"cpmc_uci\",\"nec_phs\",\"nyc_cornell\",\"ipmc_nu\",\"nyc_hh\",\"ipmc_uchicago\",\"aouw_mcri\",\"syhc\",\"cpmc_ceders\",\"seec_ufl\",\"saou_uab\",\"trans_am_baylor\",\"cpmc_ucsd\",\"ecchc\",\"chci\",\"aouw_uwh\",\"cpmc_usc\",\"hrhc\",\"ipmc_northshore\",\"chs\",\"cpmc_ucsf\",\"jhchc\",\"aouw_mcw\",\"cpmc_ucd\",\"ipmc_rush\"],\n",
    "    'HPO':[\"Essentia Health Superior Clinic\",\"University of Mississippi\",\"SouthEast Enrollment Center Miami\",\"SouthEast Enrollment Center Morehouse\",\"SouthEast Enrollment Center Emory\",\"Banner Health\",\"University of Pittsburgh\",\"Columbia University Medical Center\",\"University of Illinois Chicago\",\"Spectrum Health\",\"Henry Ford Health System\",\"Boston Medical Center\",\"UC Irvine\",\"Partners HealthCare\",\"Weill Cornell Medical Center\",\"Northwestern Memorial Hospital\",\"Harlem Hospital\",\"University of Chicago\",\"Marshfield Clinic\",\"San Ysidro Health Center\",\"Cedars-Sinai\",\"University of Florida\",\"University of Alabama at Birmingham\",\"Baylor\",\"UC San Diego\",\"Eau Claire Cooperative Health Center\",\"Community Health Center, Inc.\",\"UW Health (University of Wisconsin Madison)\",\"University of Southern California\",\"HRHCare\",\"NorthShore University Health System\",\"Cherokee Health Systems\",\"UC San Francisco\",\"Jackson-Hinds CHC\",\"Medical College of Wisconsin\",\"UC Davis\",\"Rush University\"]}\n",
    "\n",
    "\n",
    "site_df=pd.DataFrame(data=dic)\n",
    "site_df"
   ]
  },
  {
   "cell_type": "markdown",
   "metadata": {},
   "source": [
    "# Improve the Definitions of Drug Ingredient "
   ]
  },
  {
   "cell_type": "code",
   "execution_count": null,
   "metadata": {},
   "outputs": [],
   "source": [
    "diuretics=(974166,956874,970250,1395058,904542,942350,932745,907013,978555,991382,\n",
    "1309799)"
   ]
  },
  {
   "cell_type": "code",
   "execution_count": null,
   "metadata": {},
   "outputs": [],
   "source": [
    "ccb=(1332418,1328165,1318853,1307863,1353776,1318137,1318853)"
   ]
  },
  {
   "cell_type": "code",
   "execution_count": null,
   "metadata": {},
   "outputs": [],
   "source": [
    "vaccine=(45637323,529411,529303,42800027,45658522,45628027,529218,36212685,40163692,528323,528986,792777,\n",
    "596876,45658522,45628027,529218,36212685,523365,\n",
    "523367,509079,509081)"
   ]
  },
  {
   "cell_type": "code",
   "execution_count": null,
   "metadata": {},
   "outputs": [],
   "source": [
    "oralhypoglycemics=(1503297,1560171,1580747,1559684,1525215,1597756,43526465,45774751,40239216,44785829,40166035,1516766,1529331,1502826,1547504,730548,1510202,1515249)"
   ]
  },
  {
   "cell_type": "code",
   "execution_count": null,
   "metadata": {},
   "outputs": [],
   "source": [
    "opiods=(1124957,1103314,1201620,1174888,1126658,1110410,1154029,1103640,\n",
    "1102527)"
   ]
  },
  {
   "cell_type": "code",
   "execution_count": null,
   "metadata": {},
   "outputs": [],
   "source": [
    "antibiotics=(1734104,1836430,1713332,1797513,1705674,1786621,1742253,997881,1707164,1738521,1759842,1746940,902722,45892419,1717327,1777806,1836948,1746114,\n",
    "1775741)"
   ]
  },
  {
   "cell_type": "code",
   "execution_count": null,
   "metadata": {},
   "outputs": [],
   "source": [
    "statins=(1551860,1545958,1539403,1510813,1592085,1549686,\n",
    "40165636)"
   ]
  },
  {
   "cell_type": "code",
   "execution_count": null,
   "metadata": {},
   "outputs": [],
   "source": [
    "msknsaids=(1115008,1177480,1124300,1178663,1136980,1118084,1150345,1236607,1395573,\n",
    "1146810)"
   ]
  },
  {
   "cell_type": "code",
   "execution_count": null,
   "metadata": {},
   "outputs": [],
   "source": [
    "painnsaids=(1177480,1125315,1112807,1115008,45660697,45787568,36156482,45696636,\n",
    "45696805)"
   ]
  },
  {
   "cell_type": "code",
   "execution_count": null,
   "metadata": {},
   "outputs": [],
   "source": [
    "ace_inhibitors=(1308216,1341927,1335471,1331235,1334456,1340128,\n",
    "1363749)"
   ]
  },
  {
   "cell_type": "markdown",
   "metadata": {},
   "source": [
    "## Diuretics"
   ]
  },
  {
   "cell_type": "code",
   "execution_count": null,
   "metadata": {},
   "outputs": [],
   "source": [
    "len(diuretics)"
   ]
  },
  {
   "cell_type": "code",
   "execution_count": null,
   "metadata": {},
   "outputs": [],
   "source": [
    "len(set(diuretics))"
   ]
  },
  {
   "cell_type": "code",
   "execution_count": null,
   "metadata": {},
   "outputs": [],
   "source": [
    "df_diuretics = pd.io.gbq.read_gbq('''\n",
    "SELECT\n",
    "     mde.src_hpo_id, \n",
    "     round(COUNT(DISTINCT ca.ancestor_concept_id) / 11 * 100, 2) as ancestor_usage\n",
    " FROM\n",
    "     `{}.unioned_ehr_drug_exposure` de\n",
    " JOIN\n",
    "     `{}.concept_ancestor` ca\n",
    " ON\n",
    "     de.drug_concept_id = ca.descendant_concept_id\n",
    " JOIN\n",
    "     `{}._mapping_drug_exposure` mde\n",
    " ON\n",
    "     de.drug_exposure_id = mde.drug_exposure_id\n",
    " WHERE\n",
    "     ca.ancestor_concept_id IN {}\n",
    " GROUP BY \n",
    "     1\n",
    " ORDER BY \n",
    "     ancestor_usage DESC, \n",
    "     mde.src_hpo_id\n",
    "    '''.format(DATASET, DATASET,DATASET,diuretics,DATASET,DATASET,DATASET,DATASET,DATASET,DATASET,DATASET,DATASET),\n",
    "                                    dialect='standard'\n",
    ")\n",
    "df_diuretics.shape"
   ]
  },
  {
   "cell_type": "code",
   "execution_count": null,
   "metadata": {},
   "outputs": [],
   "source": [
    "df_diuretics=df_diuretics.rename(columns={\"ancestor_usage\":'diuretics'})"
   ]
  },
  {
   "cell_type": "code",
   "execution_count": null,
   "metadata": {},
   "outputs": [],
   "source": [
    "df_diuretics.head(100)"
   ]
  },
  {
   "cell_type": "markdown",
   "metadata": {},
   "source": [
    "## CCB"
   ]
  },
  {
   "cell_type": "code",
   "execution_count": null,
   "metadata": {},
   "outputs": [],
   "source": [
    "len(ccb)"
   ]
  },
  {
   "cell_type": "code",
   "execution_count": null,
   "metadata": {},
   "outputs": [],
   "source": [
    "len(set(ccb))"
   ]
  },
  {
   "cell_type": "code",
   "execution_count": null,
   "metadata": {},
   "outputs": [],
   "source": [
    "df_ccb = pd.io.gbq.read_gbq('''\n",
    "SELECT\n",
    "     mde.src_hpo_id, \n",
    "     round(COUNT(DISTINCT ca.ancestor_concept_id) / 6 * 100, 2) as ancestor_usage\n",
    " FROM\n",
    "     `{}.unioned_ehr_drug_exposure` de\n",
    " JOIN\n",
    "     `{}.concept_ancestor` ca\n",
    " ON\n",
    "     de.drug_concept_id = ca.descendant_concept_id\n",
    " JOIN\n",
    "     `{}._mapping_drug_exposure` mde\n",
    " ON\n",
    "     de.drug_exposure_id = mde.drug_exposure_id\n",
    " WHERE\n",
    "     ca.ancestor_concept_id IN {}\n",
    " GROUP BY \n",
    "     1\n",
    " ORDER BY \n",
    "     ancestor_usage DESC, \n",
    "     mde.src_hpo_id\n",
    "    '''.format(DATASET, DATASET,DATASET,ccb,DATASET,DATASET,DATASET,DATASET,DATASET,DATASET,DATASET,DATASET),\n",
    "                                    dialect='standard'\n",
    ")\n",
    "df_ccb.shape"
   ]
  },
  {
   "cell_type": "code",
   "execution_count": null,
   "metadata": {},
   "outputs": [],
   "source": [
    "df_ccb=df_ccb.rename(columns={\"ancestor_usage\":'ccb'})"
   ]
  },
  {
   "cell_type": "code",
   "execution_count": null,
   "metadata": {},
   "outputs": [],
   "source": [
    "df_ccb.head(100)"
   ]
  },
  {
   "cell_type": "markdown",
   "metadata": {},
   "source": [
    "## Vaccine"
   ]
  },
  {
   "cell_type": "code",
   "execution_count": null,
   "metadata": {},
   "outputs": [],
   "source": [
    "len(vaccine)"
   ]
  },
  {
   "cell_type": "code",
   "execution_count": null,
   "metadata": {},
   "outputs": [],
   "source": [
    "len(set(vaccine))"
   ]
  },
  {
   "cell_type": "code",
   "execution_count": null,
   "metadata": {},
   "outputs": [],
   "source": [
    "df_vaccine = pd.io.gbq.read_gbq('''\n",
    "SELECT\n",
    "     mde.src_hpo_id, \n",
    "     round(COUNT(DISTINCT ca.ancestor_concept_id) / 17 * 100, 2) as ancestor_usage\n",
    " FROM\n",
    "     `{}.unioned_ehr_drug_exposure` de\n",
    " JOIN\n",
    "     `{}.concept_ancestor` ca\n",
    " ON\n",
    "     de.drug_concept_id = ca.descendant_concept_id\n",
    " JOIN\n",
    "     `{}._mapping_drug_exposure` mde\n",
    " ON\n",
    "     de.drug_exposure_id = mde.drug_exposure_id\n",
    " WHERE\n",
    "     ca.ancestor_concept_id IN {}\n",
    " GROUP BY \n",
    "     1\n",
    " ORDER BY \n",
    "     ancestor_usage DESC, \n",
    "     mde.src_hpo_id\n",
    "    '''.format(DATASET, DATASET,DATASET,vaccine,DATASET,DATASET,DATASET,DATASET,DATASET,DATASET,DATASET,DATASET),\n",
    "                                    dialect='standard'\n",
    ")\n",
    "df_vaccine.shape"
   ]
  },
  {
   "cell_type": "code",
   "execution_count": null,
   "metadata": {},
   "outputs": [],
   "source": [
    "df_vaccine=df_vaccine.rename(columns={\"ancestor_usage\":'vaccine'})"
   ]
  },
  {
   "cell_type": "code",
   "execution_count": null,
   "metadata": {
    "scrolled": true
   },
   "outputs": [],
   "source": [
    "df_vaccine.head(100)"
   ]
  },
  {
   "cell_type": "markdown",
   "metadata": {},
   "source": [
    "## oralHypoglycemics"
   ]
  },
  {
   "cell_type": "code",
   "execution_count": null,
   "metadata": {},
   "outputs": [],
   "source": [
    "len(oralhypoglycemics)"
   ]
  },
  {
   "cell_type": "code",
   "execution_count": null,
   "metadata": {},
   "outputs": [],
   "source": [
    "len(set(oralhypoglycemics))"
   ]
  },
  {
   "cell_type": "code",
   "execution_count": null,
   "metadata": {},
   "outputs": [],
   "source": [
    "df_oralhypoglycemics = pd.io.gbq.read_gbq('''\n",
    "SELECT\n",
    "     mde.src_hpo_id, \n",
    "     round(COUNT(DISTINCT ca.ancestor_concept_id) / 18 * 100, 2) as ancestor_usage\n",
    " FROM\n",
    "     `{}.unioned_ehr_drug_exposure` de\n",
    " JOIN\n",
    "     `{}.concept_ancestor` ca\n",
    " ON\n",
    "     de.drug_concept_id = ca.descendant_concept_id\n",
    " JOIN\n",
    "     `{}._mapping_drug_exposure` mde\n",
    " ON\n",
    "     de.drug_exposure_id = mde.drug_exposure_id\n",
    " WHERE\n",
    "     ca.ancestor_concept_id IN {}\n",
    " GROUP BY \n",
    "     1\n",
    " ORDER BY \n",
    "     ancestor_usage DESC, \n",
    "     mde.src_hpo_id\n",
    "    '''.format(DATASET, DATASET,DATASET,oralhypoglycemics,DATASET,DATASET,DATASET,DATASET,DATASET,DATASET,DATASET,DATASET),\n",
    "                                    dialect='standard'\n",
    ")\n",
    "df_oralhypoglycemics.shape"
   ]
  },
  {
   "cell_type": "code",
   "execution_count": null,
   "metadata": {},
   "outputs": [],
   "source": [
    "df_oralhypoglycemics=df_oralhypoglycemics.rename(columns={\"ancestor_usage\":'oralhypoglycemics'})"
   ]
  },
  {
   "cell_type": "code",
   "execution_count": null,
   "metadata": {},
   "outputs": [],
   "source": [
    "df_oralhypoglycemics.head(100)"
   ]
  },
  {
   "cell_type": "markdown",
   "metadata": {},
   "source": [
    "## Opiods"
   ]
  },
  {
   "cell_type": "code",
   "execution_count": null,
   "metadata": {},
   "outputs": [],
   "source": [
    "len(opiods)"
   ]
  },
  {
   "cell_type": "code",
   "execution_count": null,
   "metadata": {},
   "outputs": [],
   "source": [
    "len(set(opiods))"
   ]
  },
  {
   "cell_type": "code",
   "execution_count": null,
   "metadata": {},
   "outputs": [],
   "source": [
    "df_opiods = pd.io.gbq.read_gbq('''\n",
    "SELECT\n",
    "     mde.src_hpo_id, \n",
    "     round(COUNT(DISTINCT ca.ancestor_concept_id) / 9 * 100, 2) as ancestor_usage\n",
    " FROM\n",
    "     `{}.unioned_ehr_drug_exposure` de\n",
    " JOIN\n",
    "     `{}.concept_ancestor` ca\n",
    " ON\n",
    "     de.drug_concept_id = ca.descendant_concept_id\n",
    " JOIN\n",
    "     `{}._mapping_drug_exposure` mde\n",
    " ON\n",
    "     de.drug_exposure_id = mde.drug_exposure_id\n",
    " WHERE\n",
    "     ca.ancestor_concept_id IN {}\n",
    " GROUP BY \n",
    "     1\n",
    " ORDER BY \n",
    "     ancestor_usage DESC, \n",
    "     mde.src_hpo_id\n",
    "    '''.format(DATASET, DATASET,DATASET,opiods,DATASET,DATASET,DATASET,DATASET,DATASET,DATASET,DATASET,DATASET),\n",
    "                                    dialect='standard'\n",
    ")\n",
    "df_opiods.shape"
   ]
  },
  {
   "cell_type": "code",
   "execution_count": null,
   "metadata": {},
   "outputs": [],
   "source": [
    "df_opiods=df_opiods.rename(columns={\"ancestor_usage\":'opiods'})"
   ]
  },
  {
   "cell_type": "code",
   "execution_count": null,
   "metadata": {},
   "outputs": [],
   "source": [
    "df_opiods.head(100)"
   ]
  },
  {
   "cell_type": "markdown",
   "metadata": {},
   "source": [
    "## Antibiotics"
   ]
  },
  {
   "cell_type": "code",
   "execution_count": null,
   "metadata": {},
   "outputs": [],
   "source": [
    "len(antibiotics)"
   ]
  },
  {
   "cell_type": "code",
   "execution_count": null,
   "metadata": {},
   "outputs": [],
   "source": [
    "len(set(antibiotics))"
   ]
  },
  {
   "cell_type": "code",
   "execution_count": null,
   "metadata": {},
   "outputs": [],
   "source": [
    "df_antibiotics = pd.io.gbq.read_gbq('''\n",
    "SELECT\n",
    "     mde.src_hpo_id, \n",
    "     round(COUNT(DISTINCT ca.ancestor_concept_id) / 19 * 100, 2) as ancestor_usage\n",
    " FROM\n",
    "     `{}.unioned_ehr_drug_exposure` de\n",
    " JOIN\n",
    "     `{}.concept_ancestor` ca\n",
    " ON\n",
    "     de.drug_concept_id = ca.descendant_concept_id\n",
    " JOIN\n",
    "     `{}._mapping_drug_exposure` mde\n",
    " ON\n",
    "     de.drug_exposure_id = mde.drug_exposure_id\n",
    " WHERE\n",
    "     ca.ancestor_concept_id IN {}\n",
    " GROUP BY \n",
    "     1\n",
    " ORDER BY \n",
    "     ancestor_usage DESC, \n",
    "     mde.src_hpo_id\n",
    "    '''.format(DATASET, DATASET,DATASET,antibiotics,DATASET,DATASET,DATASET,DATASET,DATASET,DATASET,DATASET,DATASET),\n",
    "                                    dialect='standard'\n",
    ")\n",
    "df_antibiotics.shape"
   ]
  },
  {
   "cell_type": "code",
   "execution_count": null,
   "metadata": {},
   "outputs": [],
   "source": [
    "df_antibiotics=df_antibiotics.rename(columns={\"ancestor_usage\":'antibiotics'})"
   ]
  },
  {
   "cell_type": "code",
   "execution_count": null,
   "metadata": {},
   "outputs": [],
   "source": [
    "df_antibiotics.head(100)"
   ]
  },
  {
   "cell_type": "markdown",
   "metadata": {},
   "source": [
    "## Statins"
   ]
  },
  {
   "cell_type": "code",
   "execution_count": null,
   "metadata": {},
   "outputs": [],
   "source": [
    "len(statins)"
   ]
  },
  {
   "cell_type": "code",
   "execution_count": null,
   "metadata": {},
   "outputs": [],
   "source": [
    "len(set(statins))"
   ]
  },
  {
   "cell_type": "code",
   "execution_count": null,
   "metadata": {},
   "outputs": [],
   "source": [
    "df_statins = pd.io.gbq.read_gbq('''\n",
    "SELECT\n",
    "     mde.src_hpo_id, \n",
    "     round(COUNT(DISTINCT ca.ancestor_concept_id) / 7 * 100, 2) as ancestor_usage\n",
    " FROM\n",
    "     `{}.unioned_ehr_drug_exposure` de\n",
    " JOIN\n",
    "     `{}.concept_ancestor` ca\n",
    " ON\n",
    "     de.drug_concept_id = ca.descendant_concept_id\n",
    " JOIN\n",
    "     `{}._mapping_drug_exposure` mde\n",
    " ON\n",
    "     de.drug_exposure_id = mde.drug_exposure_id\n",
    " WHERE\n",
    "     ca.ancestor_concept_id IN {}\n",
    " GROUP BY \n",
    "     1\n",
    " ORDER BY \n",
    "     ancestor_usage DESC, \n",
    "     mde.src_hpo_id\n",
    "    '''.format(DATASET, DATASET,DATASET,statins,DATASET,DATASET,DATASET,DATASET,DATASET,DATASET,DATASET,DATASET),\n",
    "                                    dialect='standard'\n",
    ")\n",
    "df_statins.shape"
   ]
  },
  {
   "cell_type": "code",
   "execution_count": null,
   "metadata": {},
   "outputs": [],
   "source": [
    "df_statins=df_statins.rename(columns={\"ancestor_usage\":'statins'})"
   ]
  },
  {
   "cell_type": "code",
   "execution_count": null,
   "metadata": {},
   "outputs": [],
   "source": [
    "df_statins.head(100)"
   ]
  },
  {
   "cell_type": "markdown",
   "metadata": {},
   "source": [
    "## msknsaids"
   ]
  },
  {
   "cell_type": "code",
   "execution_count": null,
   "metadata": {},
   "outputs": [],
   "source": [
    "len(msknsaids)"
   ]
  },
  {
   "cell_type": "code",
   "execution_count": null,
   "metadata": {},
   "outputs": [],
   "source": [
    "len(set(msknsaids))"
   ]
  },
  {
   "cell_type": "code",
   "execution_count": null,
   "metadata": {},
   "outputs": [],
   "source": [
    "df_msknsaids = pd.io.gbq.read_gbq('''\n",
    "SELECT\n",
    "     mde.src_hpo_id, \n",
    "     round(COUNT(DISTINCT ca.ancestor_concept_id) / 10 * 100, 2) as ancestor_usage\n",
    " FROM\n",
    "     `{}.unioned_ehr_drug_exposure` de\n",
    " JOIN\n",
    "     `{}.concept_ancestor` ca\n",
    " ON\n",
    "     de.drug_concept_id = ca.descendant_concept_id\n",
    " JOIN\n",
    "     `{}._mapping_drug_exposure` mde\n",
    " ON\n",
    "     de.drug_exposure_id = mde.drug_exposure_id\n",
    " WHERE\n",
    "     ca.ancestor_concept_id IN {}\n",
    " GROUP BY \n",
    "     1\n",
    " ORDER BY \n",
    "     ancestor_usage DESC, \n",
    "     mde.src_hpo_id\n",
    "    '''.format(DATASET, DATASET,DATASET,msknsaids,DATASET,DATASET,DATASET,DATASET,DATASET,DATASET,DATASET,DATASET),\n",
    "                                    dialect='standard'\n",
    ")\n",
    "df_msknsaids.shape"
   ]
  },
  {
   "cell_type": "code",
   "execution_count": null,
   "metadata": {},
   "outputs": [],
   "source": [
    "df_msknsaids=df_msknsaids.rename(columns={\"ancestor_usage\":'msknsaids'})"
   ]
  },
  {
   "cell_type": "code",
   "execution_count": null,
   "metadata": {},
   "outputs": [],
   "source": [
    "df_msknsaids.head(100)"
   ]
  },
  {
   "cell_type": "markdown",
   "metadata": {},
   "source": [
    "## painnsaids"
   ]
  },
  {
   "cell_type": "code",
   "execution_count": null,
   "metadata": {},
   "outputs": [],
   "source": [
    "len(painnsaids)"
   ]
  },
  {
   "cell_type": "code",
   "execution_count": null,
   "metadata": {},
   "outputs": [],
   "source": [
    "len(set(painnsaids))"
   ]
  },
  {
   "cell_type": "code",
   "execution_count": null,
   "metadata": {},
   "outputs": [],
   "source": [
    "df_painnsaids = pd.io.gbq.read_gbq('''\n",
    "SELECT\n",
    "     mde.src_hpo_id, \n",
    "     round(COUNT(DISTINCT ca.ancestor_concept_id) / 9 * 100, 2) as ancestor_usage\n",
    " FROM\n",
    "     `{}.unioned_ehr_drug_exposure` de\n",
    " JOIN\n",
    "     `{}.concept_ancestor` ca\n",
    " ON\n",
    "     de.drug_concept_id = ca.descendant_concept_id\n",
    " JOIN\n",
    "     `{}._mapping_drug_exposure` mde\n",
    " ON\n",
    "     de.drug_exposure_id = mde.drug_exposure_id\n",
    " WHERE\n",
    "     ca.ancestor_concept_id IN {}\n",
    " GROUP BY \n",
    "     1\n",
    " ORDER BY \n",
    "     ancestor_usage DESC, \n",
    "     mde.src_hpo_id\n",
    "    '''.format(DATASET, DATASET,DATASET,painnsaids,DATASET,DATASET,DATASET,DATASET,DATASET,DATASET,DATASET,DATASET),\n",
    "                                    dialect='standard'\n",
    ")\n",
    "df_painnsaids.shape"
   ]
  },
  {
   "cell_type": "code",
   "execution_count": null,
   "metadata": {},
   "outputs": [],
   "source": [
    "df_painnsaids=df_painnsaids.rename(columns={\"ancestor_usage\":'painnsaids'})"
   ]
  },
  {
   "cell_type": "code",
   "execution_count": null,
   "metadata": {},
   "outputs": [],
   "source": [
    "df_painnsaids.head(100)"
   ]
  },
  {
   "cell_type": "markdown",
   "metadata": {},
   "source": [
    "## ace_inhibitors"
   ]
  },
  {
   "cell_type": "code",
   "execution_count": null,
   "metadata": {},
   "outputs": [],
   "source": [
    "len(ace_inhibitors)"
   ]
  },
  {
   "cell_type": "code",
   "execution_count": null,
   "metadata": {},
   "outputs": [],
   "source": [
    "len(set(ace_inhibitors))"
   ]
  },
  {
   "cell_type": "code",
   "execution_count": null,
   "metadata": {},
   "outputs": [],
   "source": [
    "df_ace_inhibitors = pd.io.gbq.read_gbq('''\n",
    "SELECT\n",
    "     mde.src_hpo_id, \n",
    "     round(COUNT(DISTINCT ca.ancestor_concept_id) / 7 * 100, 2) as ancestor_usage\n",
    " FROM\n",
    "     `{}.unioned_ehr_drug_exposure` de\n",
    " JOIN\n",
    "     `{}.concept_ancestor` ca\n",
    " ON\n",
    "     de.drug_concept_id = ca.descendant_concept_id\n",
    " JOIN\n",
    "     `{}._mapping_drug_exposure` mde\n",
    " ON\n",
    "     de.drug_exposure_id = mde.drug_exposure_id\n",
    " WHERE\n",
    "     ca.ancestor_concept_id IN {}\n",
    " GROUP BY \n",
    "     1\n",
    " ORDER BY \n",
    "     ancestor_usage DESC, \n",
    "     mde.src_hpo_id\n",
    "    '''.format(DATASET, DATASET,DATASET,ace_inhibitors,DATASET,DATASET,DATASET,DATASET,DATASET,DATASET,DATASET,DATASET),\n",
    "                                    dialect='standard'\n",
    ")\n",
    "df_ace_inhibitors.shape"
   ]
  },
  {
   "cell_type": "code",
   "execution_count": null,
   "metadata": {},
   "outputs": [],
   "source": [
    "df_ace_inhibitors=df_ace_inhibitors.rename(columns={\"ancestor_usage\":'ace_inhibitors'})"
   ]
  },
  {
   "cell_type": "code",
   "execution_count": null,
   "metadata": {},
   "outputs": [],
   "source": [
    "df_ace_inhibitors.head(100)"
   ]
  },
  {
   "cell_type": "markdown",
   "metadata": {},
   "source": [
    "## Sites combined"
   ]
  },
  {
   "cell_type": "code",
   "execution_count": null,
   "metadata": {},
   "outputs": [],
   "source": [
    "sites_drug_success=pd.merge(df_ace_inhibitors,df_painnsaids,how='outer',on='src_hpo_id')\n",
    "sites_drug_success=pd.merge(sites_drug_success,df_msknsaids,how='outer',on='src_hpo_id')\n",
    "sites_drug_success=pd.merge(sites_drug_success,df_statins,how='outer',on='src_hpo_id')\n",
    "sites_drug_success=pd.merge(sites_drug_success,df_antibiotics,how='outer',on='src_hpo_id')\n",
    "sites_drug_success=pd.merge(sites_drug_success,df_opiods,how='outer',on='src_hpo_id')\n",
    "sites_drug_success=pd.merge(sites_drug_success,df_oralhypoglycemics,how='outer',on='src_hpo_id')\n",
    "sites_drug_success=pd.merge(sites_drug_success,df_vaccine,how='outer',on='src_hpo_id')\n",
    "sites_drug_success=pd.merge(sites_drug_success,df_ccb,how='outer',on='src_hpo_id')\n",
    "sites_drug_success=pd.merge(sites_drug_success,df_diuretics,how='outer',on='src_hpo_id')"
   ]
  },
  {
   "cell_type": "code",
   "execution_count": null,
   "metadata": {},
   "outputs": [],
   "source": [
    "sites_drug_success=sites_drug_success.fillna(0)"
   ]
  },
  {
   "cell_type": "code",
   "execution_count": null,
   "metadata": {},
   "outputs": [],
   "source": [
    "sites_drug_success[[\"ace_inhibitors\",\"painnsaids\",\"msknsaids\",\"statins\",\"antibiotics\",\"opiods\",\"oralhypoglycemics\",\"vaccine\",\"ccb\",\"diuretics\"]]\\\n",
    "    =sites_drug_success[[\"ace_inhibitors\",\"painnsaids\",\"msknsaids\",\"statins\",\"antibiotics\",\"opiods\",\"oralhypoglycemics\",\"vaccine\",\"ccb\",\"diuretics\"]].astype(int)\n",
    "sites_drug_success"
   ]
  },
  {
   "cell_type": "code",
   "execution_count": null,
   "metadata": {},
   "outputs": [],
   "source": [
    "sites_drug_success.to_csv(\"data\\\\drug_success.csv\")"
   ]
  },
  {
   "cell_type": "code",
   "execution_count": null,
   "metadata": {},
   "outputs": [],
   "source": []
  },
  {
   "cell_type": "code",
   "execution_count": null,
   "metadata": {},
   "outputs": [],
   "source": []
  },
  {
   "cell_type": "code",
   "execution_count": null,
   "metadata": {},
   "outputs": [],
   "source": []
  },
  {
   "cell_type": "code",
   "execution_count": null,
   "metadata": {},
   "outputs": [],
   "source": []
  },
  {
   "cell_type": "code",
   "execution_count": null,
   "metadata": {},
   "outputs": [],
   "source": []
  }
 ],
 "metadata": {
  "kernelspec": {
   "display_name": "Python 3",
   "language": "python",
   "name": "python3"
  },
  "language_info": {
   "codemirror_mode": {
    "name": "ipython",
    "version": 3
   },
   "file_extension": ".py",
   "mimetype": "text/x-python",
   "name": "python",
   "nbconvert_exporter": "python",
   "pygments_lexer": "ipython3",
   "version": "3.6.8"
  }
 },
 "nbformat": 4,
 "nbformat_minor": 2
}
