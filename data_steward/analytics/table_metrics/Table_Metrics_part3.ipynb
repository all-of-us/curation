{
 "cells": [
  {
   "cell_type": "code",
   "execution_count": null,
   "metadata": {},
   "outputs": [],
   "source": [
    "from google.cloud import bigquery"
   ]
  },
  {
   "cell_type": "code",
   "execution_count": null,
   "metadata": {},
   "outputs": [],
   "source": [
    "client=bigquery.Client()"
   ]
  },
  {
   "cell_type": "code",
   "execution_count": null,
   "metadata": {},
   "outputs": [],
   "source": [
    "%load_ext google.cloud.bigquery"
   ]
  },
  {
   "cell_type": "code",
   "execution_count": null,
   "metadata": {},
   "outputs": [],
   "source": [
    "%reload_ext google.cloud.bigquery"
   ]
  },
  {
   "cell_type": "code",
   "execution_count": null,
   "metadata": {},
   "outputs": [],
   "source": [
    "#######################################\n",
    "print('Setting everything up...')\n",
    "#######################################\n",
    "\n",
    "import warnings\n",
    "warnings.filterwarnings('ignore')\n",
    "import pandas_gbq \n",
    "import pandas as pd\n",
    "import numpy as np\n",
    "import matplotlib\n",
    "import matplotlib.pyplot as plt\n",
    "import matplotlib.lines as mlines\n",
    "from matplotlib.lines import Line2D\n",
    "\n",
    "import matplotlib.ticker as ticker\n",
    "import matplotlib.cm as cm\n",
    "import matplotlib as mpl\n",
    "\n",
    "import matplotlib.pyplot as plt\n",
    "%matplotlib inline\n",
    "\n",
    "\n",
    "\n",
    "import os\n",
    "import sys\n",
    "from datetime import datetime\n",
    "from datetime import date\n",
    "from datetime import time\n",
    "from datetime import timedelta\n",
    "import time\n",
    "\n",
    "DATASET = ''\n",
    "\n",
    "plt.style.use('ggplot')\n",
    "pd.options.display.max_rows = 999\n",
    "pd.options.display.max_columns = 999\n",
    "pd.options.display.max_colwidth = 999\n",
    "\n",
    "from IPython.display import HTML as html_print\n",
    "\n",
    "def cstr(s, color='black'):\n",
    "    return \"<text style=color:{}>{}</text>\".format(color, s)\n",
    "\n",
    "\n",
    "print('done.')\n"
   ]
  },
  {
   "cell_type": "code",
   "execution_count": null,
   "metadata": {},
   "outputs": [],
   "source": [
    "dic={'src_hpo_id':[\"seec_miami\",\"seec_morehouse\",\"seec_emory\",\"uamc_banner\",\"pitt\",\"nyc_cu\",\"ipmc_uic\",\"trans_am_spectrum\",\"tach_hfhs\",\"nec_bmc\",\"cpmc_uci\",\"nec_phs\",\"nyc_cornell\",\"ipmc_nu\",\"nyc_hh\",\"ipmc_uchicago\",\"aouw_mcri\",\"syhc\",\"cpmc_ceders\",\"seec_ufl\",\"saou_uab\",\"trans_am_baylor\",\"cpmc_ucsd\",\"ecchc\",\"chci\",\"aouw_uwh\",\"cpmc_usc\",\"hrhc\",\"ipmc_northshore\",\"chs\",\"cpmc_ucsf\",\"jhchc\",\"aouw_mcw\",\"cpmc_ucd\",\"ipmc_rush\"],\n",
    "    'HPO':[\"SouthEast Enrollment Center Miami\",\"SouthEast Enrollment Center Morehouse\",\"SouthEast Enrollment Center Emory\",\"Banner Health\",\"University of Pittsburgh\",\"Columbia University Medical Center\",\"University of Illinois Chicago\",\"Spectrum Health\",\"Henry Ford Health System\",\"Boston Medical Center\",\"UC Irvine\",\"Partners HealthCare\",\"Weill Cornell Medical Center\",\"Northwestern Memorial Hospital\",\"Harlem Hospital\",\"University of Chicago\",\"Marshfield Clinic\",\"San Ysidro Health Center\",\"Cedars-Sinai\",\"University of Florida\",\"University of Alabama at Birmingham\",\"Baylor\",\"UC San Diego\",\"Eau Claire Cooperative Health Center\",\"Community Health Center, Inc.\",\"UW Health (University of Wisconsin Madison)\",\"University of Southern California\",\"HRHCare\",\"NorthShore University Health System\",\"Cherokee Health Systems\",\"UC San Francisco\",\"Jackson-Hinds CHC\",\"Medical College of Wisconsin\",\"UC Davis\",\"Rush University\"]}\n",
    "\n",
    "\n",
    "site_df=pd.DataFrame(data=dic)\n",
    "site_df"
   ]
  },
  {
   "cell_type": "markdown",
   "metadata": {},
   "source": [
    "# All temporal data points should be consistent such that end dates should NOT be before a start date. "
   ]
  },
  {
   "cell_type": "markdown",
   "metadata": {},
   "source": [
    "## Visit Occurrence Table"
   ]
  },
  {
   "cell_type": "code",
   "execution_count": null,
   "metadata": {},
   "outputs": [],
   "source": [
    "######################################\n",
    "print('Getting the data from the database...')\n",
    "######################################\n",
    "\n",
    "temporal_df = pd.io.gbq.read_gbq('''\n",
    "    SELECT\n",
    "        COUNT(*) AS total,\n",
    "        sum(case when (t1.visit_start_datetime>t1.visit_end_datetime) then 1 else 0 end) as wrong_date\n",
    "    FROM\n",
    "       `{}.unioned_ehr_visit_occurrence` AS t1\n",
    "\n",
    "    '''.format(DATASET, DATASET,DATASET,DATASET,DATASET,DATASET),\n",
    "                    dialect='standard')\n",
    "temporal_df.shape\n",
    "\n",
    "print(temporal_df.shape[0], 'records received.')"
   ]
  },
  {
   "cell_type": "code",
   "execution_count": null,
   "metadata": {},
   "outputs": [],
   "source": [
    "temporal_df"
   ]
  },
  {
   "cell_type": "markdown",
   "metadata": {},
   "source": [
    "### Visit Occurrence Table By Site"
   ]
  },
  {
   "cell_type": "code",
   "execution_count": null,
   "metadata": {},
   "outputs": [],
   "source": [
    "######################################\n",
    "print('Getting the data from the database...')\n",
    "######################################\n",
    "\n",
    "temporal_df = pd.io.gbq.read_gbq('''\n",
    "    SELECT\n",
    "        src_hpo_id,\n",
    "        COUNT(*) AS total_rows,\n",
    "        sum(case when (t1.visit_start_datetime>t1.visit_end_datetime) then 1 else 0 end) as wrong_date_rows\n",
    "    FROM\n",
    "       `{}.unioned_ehr_visit_occurrence` AS t1\n",
    "    INNER JOIN\n",
    "        (SELECT\n",
    "            DISTINCT * \n",
    "        FROM\n",
    "             `{}._mapping_visit_occurrence`)  AS t2\n",
    "    ON\n",
    "        t1.visit_occurrence_id=t2.visit_occurrence_id\n",
    "    GROUP BY\n",
    "        1\n",
    "    ORDER BY\n",
    "        3\n",
    "    '''.format(DATASET, DATASET,DATASET,DATASET,DATASET,DATASET),\n",
    "                    dialect='standard')\n",
    "\n",
    "print(temporal_df.shape[0], 'records received.')"
   ]
  },
  {
   "cell_type": "code",
   "execution_count": null,
   "metadata": {},
   "outputs": [],
   "source": [
    "temporal_df['succes_rate']=100-round(100*temporal_df['wrong_date_rows']/temporal_df['total_rows'],1)\n",
    "temporal_df"
   ]
  },
  {
   "cell_type": "code",
   "execution_count": null,
   "metadata": {},
   "outputs": [],
   "source": [
    "visit_occurrence=temporal_df.rename(columns={\"succes_rate\":\"visit_occurrence\"})\n",
    "visit_occurrence=visit_occurrence[[\"src_hpo_id\",\"visit_occurrence\"]]\n",
    "visit_occurrence=visit_occurrence.fillna(100)\n",
    "visit_occurrence"
   ]
  },
  {
   "cell_type": "code",
   "execution_count": null,
   "metadata": {},
   "outputs": [],
   "source": [
    "total_wrong=temporal_df['wrong_date_rows'].sum()\n",
    "total_wrong"
   ]
  },
  {
   "cell_type": "code",
   "execution_count": null,
   "metadata": {},
   "outputs": [],
   "source": [
    "total_row=temporal_df['total_rows'].sum()\n",
    "percent=round(100-100*(total_wrong/(total_row)),1)\n",
    "percent"
   ]
  },
  {
   "cell_type": "markdown",
   "metadata": {},
   "source": [
    "## Condition Occurrence Table"
   ]
  },
  {
   "cell_type": "code",
   "execution_count": null,
   "metadata": {},
   "outputs": [],
   "source": [
    "######################################\n",
    "print('Getting the data from the database...')\n",
    "######################################\n",
    "\n",
    "temporal_df = pd.io.gbq.read_gbq('''\n",
    "    SELECT\n",
    "        COUNT(*) AS total,\n",
    "        sum(case when (t1.condition_start_datetime>t1.condition_end_datetime) then 1 else 0 end) as wrong_date\n",
    "    FROM\n",
    "       `{}.unioned_ehr_condition_occurrence` AS t1\n",
    "    '''.format(DATASET, DATASET,DATASET,DATASET,DATASET,DATASET),\n",
    "                    dialect='standard')\n",
    "temporal_df.shape\n",
    "\n",
    "print(temporal_df.shape[0], 'records received.')"
   ]
  },
  {
   "cell_type": "code",
   "execution_count": null,
   "metadata": {},
   "outputs": [],
   "source": [
    "temporal_df"
   ]
  },
  {
   "cell_type": "code",
   "execution_count": null,
   "metadata": {},
   "outputs": [],
   "source": [
    "print(\"success rate for condition_occurrence is: \",round(100-100*(temporal_df.iloc[0,1]/temporal_df.iloc[0,0]),1))"
   ]
  },
  {
   "cell_type": "markdown",
   "metadata": {},
   "source": [
    "### Condition Occurrence Table By Site"
   ]
  },
  {
   "cell_type": "code",
   "execution_count": null,
   "metadata": {},
   "outputs": [],
   "source": [
    "######################################\n",
    "print('Getting the data from the database...')\n",
    "######################################\n",
    "\n",
    "temporal_df = pd.io.gbq.read_gbq('''\n",
    "    SELECT\n",
    "        src_hpo_id,\n",
    "        COUNT(*) AS total_rows,\n",
    "        sum(case when (t1.condition_start_datetime>t1.condition_end_datetime) then 1 else 0 end) as wrong_date_rows\n",
    "    FROM\n",
    "       `{}.unioned_ehr_condition_occurrence` AS t1\n",
    "    INNER JOIN\n",
    "        (SELECT\n",
    "            DISTINCT * \n",
    "        FROM\n",
    "             `{}._mapping_condition_occurrence`)  AS t2\n",
    "    ON\n",
    "        t1.condition_occurrence_id=t2.condition_occurrence_id\n",
    "    GROUP BY\n",
    "        1\n",
    "    ORDER BY\n",
    "        3\n",
    "    '''.format(DATASET, DATASET,DATASET,DATASET,DATASET,DATASET),\n",
    "                    dialect='standard')\n",
    "temporal_df.shape\n",
    "\n",
    "print(temporal_df.shape[0], 'records received.')"
   ]
  },
  {
   "cell_type": "code",
   "execution_count": null,
   "metadata": {},
   "outputs": [],
   "source": [
    "temporal_df['succes_rate']=100-round(100*temporal_df['wrong_date_rows']/temporal_df['total_rows'],1)\n",
    "temporal_df"
   ]
  },
  {
   "cell_type": "code",
   "execution_count": null,
   "metadata": {},
   "outputs": [],
   "source": [
    "condition_occurrence=temporal_df.rename(columns={\"succes_rate\":\"condition_occurrence\"})\n",
    "condition_occurrence=condition_occurrence[[\"src_hpo_id\",\"condition_occurrence\"]]\n",
    "condition_occurrence=condition_occurrence.fillna(100)\n",
    "condition_occurrence"
   ]
  },
  {
   "cell_type": "code",
   "execution_count": null,
   "metadata": {},
   "outputs": [],
   "source": []
  },
  {
   "cell_type": "code",
   "execution_count": null,
   "metadata": {},
   "outputs": [],
   "source": [
    "total_wrong=temporal_df['wrong_date_rows'].sum()\n",
    "total_wrong"
   ]
  },
  {
   "cell_type": "code",
   "execution_count": null,
   "metadata": {},
   "outputs": [],
   "source": [
    "total_row=temporal_df['total_rows'].sum()\n",
    "percent=round(100-100*(total_wrong/(total_row)),1)\n",
    "percent"
   ]
  },
  {
   "cell_type": "markdown",
   "metadata": {},
   "source": [
    "## Drug Exposure Table"
   ]
  },
  {
   "cell_type": "code",
   "execution_count": null,
   "metadata": {},
   "outputs": [],
   "source": [
    "######################################\n",
    "print('Getting the data from the database...')\n",
    "######################################\n",
    "\n",
    "temporal_df = pd.io.gbq.read_gbq('''\n",
    "    SELECT\n",
    "        COUNT(*) AS total,\n",
    "        sum(case when (t1.drug_exposure_start_datetime>t1.drug_exposure_end_datetime) then 1 else 0 end) as wrong_date\n",
    "    FROM\n",
    "       `{}.unioned_ehr_drug_exposure` AS t1\n",
    "    '''.format(DATASET, DATASET,DATASET,DATASET,DATASET,DATASET),\n",
    "                    dialect='standard')\n",
    "temporal_df.shape\n",
    "\n",
    "print(temporal_df.shape[0], 'records received.')"
   ]
  },
  {
   "cell_type": "code",
   "execution_count": null,
   "metadata": {},
   "outputs": [],
   "source": [
    "temporal_df"
   ]
  },
  {
   "cell_type": "code",
   "execution_count": null,
   "metadata": {},
   "outputs": [],
   "source": [
    "print(\"success rate for drug_exposure is: \",round(100-100*(temporal_df.iloc[0,1]/temporal_df.iloc[0,0]),1))"
   ]
  },
  {
   "cell_type": "markdown",
   "metadata": {},
   "source": [
    "### Drug Exposure Table By Site"
   ]
  },
  {
   "cell_type": "code",
   "execution_count": null,
   "metadata": {},
   "outputs": [],
   "source": [
    "######################################\n",
    "print('Getting the data from the database...')\n",
    "######################################\n",
    "\n",
    "temporal_df = pd.io.gbq.read_gbq('''\n",
    "    SELECT\n",
    "        src_hpo_id,\n",
    "        COUNT(*) AS total_rows,\n",
    "        sum(case when (t1.drug_exposure_start_datetime>t1.drug_exposure_end_datetime) then 1 else 0 end) as wrong_date_rows\n",
    "    FROM\n",
    "       `{}.unioned_ehr_drug_exposure` AS t1\n",
    "    INNER JOIN\n",
    "        (SELECT\n",
    "            DISTINCT * \n",
    "        FROM\n",
    "             `{}._mapping_drug_exposure`)  AS t2\n",
    "    ON\n",
    "        t1.drug_exposure_id=t2.drug_exposure_id\n",
    "    GROUP BY\n",
    "        1\n",
    "    '''.format(DATASET, DATASET,DATASET,DATASET,DATASET,DATASET),\n",
    "                    dialect='standard')\n",
    "temporal_df.shape\n",
    "\n",
    "print(temporal_df.shape[0], 'records received.')"
   ]
  },
  {
   "cell_type": "code",
   "execution_count": null,
   "metadata": {},
   "outputs": [],
   "source": [
    "temporal_df['succes_rate']=100-round(100*temporal_df['wrong_date_rows']/temporal_df['total_rows'],1)\n",
    "temporal_df"
   ]
  },
  {
   "cell_type": "code",
   "execution_count": null,
   "metadata": {},
   "outputs": [],
   "source": [
    "drug_exposure=temporal_df.rename(columns={\"succes_rate\":\"drug_exposure\"})\n",
    "drug_exposure=drug_exposure[[\"src_hpo_id\",\"drug_exposure\"]]\n",
    "drug_exposure=drug_exposure.fillna(100)\n",
    "drug_exposure"
   ]
  },
  {
   "cell_type": "code",
   "execution_count": null,
   "metadata": {},
   "outputs": [],
   "source": []
  },
  {
   "cell_type": "code",
   "execution_count": null,
   "metadata": {},
   "outputs": [],
   "source": [
    "total_wrong=temporal_df['wrong_date_rows'].sum()\n",
    "total_wrong"
   ]
  },
  {
   "cell_type": "code",
   "execution_count": null,
   "metadata": {},
   "outputs": [],
   "source": [
    "total_row=temporal_df['total_rows'].sum()\n",
    "percent=round(100-100*(total_wrong/(total_row)),1)\n",
    "percent"
   ]
  },
  {
   "cell_type": "markdown",
   "metadata": {},
   "source": [
    "## Device Exposure Table"
   ]
  },
  {
   "cell_type": "code",
   "execution_count": null,
   "metadata": {},
   "outputs": [],
   "source": [
    "######################################\n",
    "print('Getting the data from the database...')\n",
    "######################################\n",
    "\n",
    "temporal_df = pd.io.gbq.read_gbq('''\n",
    "    SELECT\n",
    "        COUNT(*) AS total,\n",
    "        sum(case when (t1.device_exposure_start_datetime>t1.device_exposure_end_datetime) then 1 else 0 end) as wrong_date\n",
    "    FROM\n",
    "       `{}.unioned_ehr_device_exposure` AS t1\n",
    "    '''.format(DATASET, DATASET,DATASET,DATASET,DATASET,DATASET),\n",
    "                    dialect='standard')\n",
    "temporal_df.shape\n",
    "\n",
    "print(temporal_df.shape[0], 'records received.')"
   ]
  },
  {
   "cell_type": "code",
   "execution_count": null,
   "metadata": {},
   "outputs": [],
   "source": [
    "temporal_df"
   ]
  },
  {
   "cell_type": "code",
   "execution_count": null,
   "metadata": {},
   "outputs": [],
   "source": [
    "print(\"success rate for device is: \",round(100-100*(temporal_df.iloc[0,1]/temporal_df.iloc[0,0]),1))"
   ]
  },
  {
   "cell_type": "markdown",
   "metadata": {},
   "source": [
    "### Device Exposure Table By Site"
   ]
  },
  {
   "cell_type": "code",
   "execution_count": null,
   "metadata": {},
   "outputs": [],
   "source": [
    "######################################\n",
    "print('Getting the data from the database...')\n",
    "######################################\n",
    "\n",
    "temporal_df = pd.io.gbq.read_gbq('''\n",
    "    SELECT\n",
    "        src_hpo_id,\n",
    "        COUNT(*) AS total_rows,\n",
    "        sum(case when (t1.device_exposure_start_datetime>t1.device_exposure_end_datetime) then 1 else 0 end) as wrong_date_rows\n",
    "    FROM\n",
    "       `{}.unioned_ehr_device_exposure` AS t1\n",
    "    INNER JOIN\n",
    "        (SELECT\n",
    "            DISTINCT * \n",
    "        FROM\n",
    "             `{}._mapping_device_exposure`)  AS t2\n",
    "    ON\n",
    "        t1.device_exposure_id=t2.device_exposure_id\n",
    "    GROUP BY\n",
    "        1\n",
    "    '''.format(DATASET, DATASET,DATASET,DATASET,DATASET,DATASET),\n",
    "                    dialect='standard')\n",
    "temporal_df.shape\n",
    "\n",
    "print(temporal_df.shape[0], 'records received.')"
   ]
  },
  {
   "cell_type": "code",
   "execution_count": null,
   "metadata": {},
   "outputs": [],
   "source": [
    "temporal_df['succes_rate']=100-round(100*temporal_df['wrong_date_rows']/temporal_df['total_rows'],1)\n",
    "temporal_df"
   ]
  },
  {
   "cell_type": "code",
   "execution_count": null,
   "metadata": {},
   "outputs": [],
   "source": [
    "device_exposure=temporal_df.rename(columns={\"succes_rate\":\"device_exposure\"})\n",
    "device_exposure=device_exposure[[\"src_hpo_id\",\"device_exposure\"]]\n",
    "device_exposure=device_exposure.fillna(100)\n",
    "device_exposure"
   ]
  },
  {
   "cell_type": "code",
   "execution_count": null,
   "metadata": {},
   "outputs": [],
   "source": [
    "total_wrong=temporal_df['wrong_date_rows'].sum()\n",
    "total_wrong"
   ]
  },
  {
   "cell_type": "code",
   "execution_count": null,
   "metadata": {},
   "outputs": [],
   "source": [
    "total_row=temporal_df['total_rows'].sum()\n",
    "percent=round(100-100*(total_wrong/(total_row)),1)\n",
    "percent"
   ]
  },
  {
   "cell_type": "code",
   "execution_count": null,
   "metadata": {},
   "outputs": [],
   "source": [
    "temporal_df"
   ]
  },
  {
   "cell_type": "markdown",
   "metadata": {},
   "source": [
    "## Temporal Data Points - End Dates Before Start Dates"
   ]
  },
  {
   "cell_type": "code",
   "execution_count": null,
   "metadata": {},
   "outputs": [],
   "source": [
    "\n",
    "succes_rate=pd.merge(visit_occurrence,condition_occurrence,how='outer',on='src_hpo_id')\n",
    "succes_rate=pd.merge(succes_rate,drug_exposure,how='outer',on='src_hpo_id')\n",
    "succes_rate=pd.merge(succes_rate,device_exposure,how='outer',on='src_hpo_id')\n",
    "succes_rate=pd.merge(succes_rate,site_df,how='outer',on='src_hpo_id')\n",
    "succes_rate=succes_rate.fillna(\"No Data\")\n",
    "succes_rate"
   ]
  },
  {
   "cell_type": "code",
   "execution_count": null,
   "metadata": {},
   "outputs": [],
   "source": [
    "succes_rate.to_csv(\"data\\\\end_before_begin.csv\")"
   ]
  },
  {
   "cell_type": "markdown",
   "metadata": {},
   "source": [
    "# No data point exists beyond 30 days of the death date. (Achilles rule_id #3)"
   ]
  },
  {
   "cell_type": "markdown",
   "metadata": {},
   "source": [
    "## Visit Occurrence Table"
   ]
  },
  {
   "cell_type": "code",
   "execution_count": null,
   "metadata": {},
   "outputs": [],
   "source": [
    "######################################\n",
    "print('Getting the data from the database...')\n",
    "######################################\n",
    "\n",
    "temporal_df = pd.io.gbq.read_gbq('''\n",
    "    SELECT\n",
    "        src_hpo_id,\n",
    "        COUNT(*) AS total,\n",
    "        sum(case when (DATE_DIFF(visit_start_date, death_date, DAY)>30) then 1 else 0 end) as wrong_death_date\n",
    "    FROM\n",
    "       `{}.unioned_ehr_visit_occurrence` AS t1\n",
    "    INNER JOIN\n",
    "        `{}.unioned_ehr_death` AS t2\n",
    "        ON\n",
    "            t1.person_id=t2.person_id\n",
    "    INNER JOIN\n",
    "        (SELECT\n",
    "            DISTINCT * \n",
    "        FROM\n",
    "             `{}._mapping_visit_occurrence`)  AS t3\n",
    "    ON\n",
    "        t1.visit_occurrence_id=t3.visit_occurrence_id\n",
    "    GROUP BY\n",
    "        1\n",
    "    '''.format(DATASET, DATASET,DATASET,DATASET,DATASET,DATASET),\n",
    "                    dialect='standard')\n",
    "temporal_df.shape\n",
    "\n",
    "print(temporal_df.shape[0], 'records received.')"
   ]
  },
  {
   "cell_type": "code",
   "execution_count": null,
   "metadata": {},
   "outputs": [],
   "source": [
    "temporal_df['succes_rate']=100-round(100*temporal_df['wrong_death_date']/temporal_df['total'],1)\n",
    "temporal_df"
   ]
  },
  {
   "cell_type": "markdown",
   "metadata": {},
   "source": [
    "- main reason death date entered as default value (\"1890\")"
   ]
  },
  {
   "cell_type": "code",
   "execution_count": null,
   "metadata": {},
   "outputs": [],
   "source": [
    "visit_occurrence=temporal_df.rename(columns={\"succes_rate\":\"visit_occurrence\"})\n",
    "visit_occurrence=visit_occurrence[[\"src_hpo_id\",\"visit_occurrence\"]]\n",
    "visit_occurrence=visit_occurrence.fillna(100)\n",
    "visit_occurrence"
   ]
  },
  {
   "cell_type": "markdown",
   "metadata": {},
   "source": [
    "## Condition Occurrence Table"
   ]
  },
  {
   "cell_type": "code",
   "execution_count": null,
   "metadata": {},
   "outputs": [],
   "source": [
    "######################################\n",
    "print('Getting the data from the database...')\n",
    "######################################\n",
    "\n",
    "temporal_df = pd.io.gbq.read_gbq('''\n",
    "    SELECT\n",
    "        src_hpo_id,\n",
    "        COUNT(*) AS total,\n",
    "        sum(case when (DATE_DIFF(condition_start_date, death_date, DAY)>30) then 1 else 0 end) as wrong_death_date\n",
    "    FROM\n",
    "       `{}.unioned_ehr_condition_occurrence` AS t1\n",
    "    INNER JOIN\n",
    "        `{}.unioned_ehr_death` AS t2\n",
    "        ON\n",
    "            t1.person_id=t2.person_id\n",
    "    INNER JOIN\n",
    "        (SELECT\n",
    "            DISTINCT * \n",
    "        FROM\n",
    "             `{}._mapping_condition_occurrence`)  AS t3\n",
    "    ON\n",
    "        t1.condition_occurrence_id=t3.condition_occurrence_id\n",
    "    GROUP BY\n",
    "        1\n",
    "    '''.format(DATASET, DATASET,DATASET,DATASET,DATASET,DATASET),\n",
    "                    dialect='standard')\n",
    "temporal_df.shape\n",
    "\n",
    "print(temporal_df.shape[0], 'records received.')"
   ]
  },
  {
   "cell_type": "code",
   "execution_count": null,
   "metadata": {},
   "outputs": [],
   "source": [
    "temporal_df['succes_rate']=100-round(100*temporal_df['wrong_death_date']/temporal_df['total'],1)\n",
    "temporal_df"
   ]
  },
  {
   "cell_type": "code",
   "execution_count": null,
   "metadata": {},
   "outputs": [],
   "source": [
    "condition_occurrence=temporal_df.rename(columns={\"succes_rate\":\"condition_occurrence\"})\n",
    "condition_occurrence=condition_occurrence[[\"src_hpo_id\",\"condition_occurrence\"]]\n",
    "condition_occurrence=condition_occurrence.fillna(100)\n",
    "condition_occurrence"
   ]
  },
  {
   "cell_type": "markdown",
   "metadata": {},
   "source": [
    "## Drug Exposure Table"
   ]
  },
  {
   "cell_type": "code",
   "execution_count": null,
   "metadata": {},
   "outputs": [],
   "source": [
    "######################################\n",
    "print('Getting the data from the database...')\n",
    "######################################\n",
    "\n",
    "temporal_df = pd.io.gbq.read_gbq('''\n",
    "    SELECT\n",
    "        src_hpo_id,\n",
    "        COUNT(*) AS total,\n",
    "        sum(case when (DATE_DIFF(drug_exposure_start_date, death_date, DAY)>30) then 1 else 0 end) as wrong_death_date\n",
    "    FROM\n",
    "       `{}.unioned_ehr_drug_exposure` AS t1\n",
    "    INNER JOIN\n",
    "        `{}.unioned_ehr_death` AS t2\n",
    "        ON\n",
    "            t1.person_id=t2.person_id\n",
    "    INNER JOIN\n",
    "        (SELECT\n",
    "            DISTINCT * \n",
    "        FROM\n",
    "             `{}._mapping_drug_exposure`)  AS t3\n",
    "    ON\n",
    "        t1.drug_exposure_id=t3.drug_exposure_id\n",
    "    GROUP BY\n",
    "        1\n",
    "    '''.format(DATASET, DATASET,DATASET,DATASET,DATASET,DATASET),\n",
    "                    dialect='standard')\n",
    "temporal_df.shape\n",
    "\n",
    "print(temporal_df.shape[0], 'records received.')"
   ]
  },
  {
   "cell_type": "code",
   "execution_count": null,
   "metadata": {},
   "outputs": [],
   "source": [
    "temporal_df['succes_rate']=100-round(100*temporal_df['wrong_death_date']/temporal_df['total'],1)\n",
    "temporal_df"
   ]
  },
  {
   "cell_type": "code",
   "execution_count": null,
   "metadata": {},
   "outputs": [],
   "source": [
    "drug_exposure=temporal_df.rename(columns={\"succes_rate\":\"drug_exposure\"})\n",
    "drug_exposure=drug_exposure[[\"src_hpo_id\",\"drug_exposure\"]]\n",
    "drug_exposure=drug_exposure.fillna(100)\n",
    "drug_exposure"
   ]
  },
  {
   "cell_type": "markdown",
   "metadata": {},
   "source": [
    "## Measurement Table"
   ]
  },
  {
   "cell_type": "code",
   "execution_count": null,
   "metadata": {},
   "outputs": [],
   "source": [
    "######################################\n",
    "print('Getting the data from the database...')\n",
    "######################################\n",
    "\n",
    "temporal_df = pd.io.gbq.read_gbq('''\n",
    "    SELECT\n",
    "        src_hpo_id,\n",
    "        COUNT(*) AS total,\n",
    "        sum(case when (DATE_DIFF(measurement_date, death_date, DAY)>30) then 1 else 0 end) as wrong_death_date\n",
    "    FROM\n",
    "       `{}.unioned_ehr_measurement` AS t1\n",
    "    INNER JOIN\n",
    "        `{}.unioned_ehr_death` AS t2\n",
    "        ON\n",
    "            t1.person_id=t2.person_id\n",
    "    INNER JOIN\n",
    "        (SELECT\n",
    "            DISTINCT * \n",
    "        FROM\n",
    "             `{}._mapping_measurement`)  AS t3\n",
    "    ON\n",
    "        t1.measurement_id=t3.measurement_id\n",
    "    GROUP BY\n",
    "        1\n",
    "    '''.format(DATASET, DATASET,DATASET,DATASET,DATASET,DATASET),\n",
    "                    dialect='standard')\n",
    "temporal_df.shape\n",
    "\n",
    "print(temporal_df.shape[0], 'records received.')"
   ]
  },
  {
   "cell_type": "code",
   "execution_count": null,
   "metadata": {},
   "outputs": [],
   "source": [
    "temporal_df['succes_rate']=100-round(100*temporal_df['wrong_death_date']/temporal_df['total'],1)\n",
    "temporal_df"
   ]
  },
  {
   "cell_type": "code",
   "execution_count": null,
   "metadata": {},
   "outputs": [],
   "source": [
    "measurement=temporal_df.rename(columns={\"succes_rate\":\"measurement\"})\n",
    "measurement=measurement[[\"src_hpo_id\",\"measurement\"]]\n",
    "measurement=measurement.fillna(100)\n",
    "measurement"
   ]
  },
  {
   "cell_type": "markdown",
   "metadata": {},
   "source": [
    "## Procedure Occurrence Table"
   ]
  },
  {
   "cell_type": "code",
   "execution_count": null,
   "metadata": {},
   "outputs": [],
   "source": [
    "######################################\n",
    "print('Getting the data from the database...')\n",
    "######################################\n",
    "\n",
    "temporal_df = pd.io.gbq.read_gbq('''\n",
    "    SELECT\n",
    "        src_hpo_id,\n",
    "        COUNT(*) AS total,\n",
    "        sum(case when (DATE_DIFF(procedure_date, death_date, DAY)>30) then 1 else 0 end) as wrong_death_date\n",
    "    FROM\n",
    "       `{}.unioned_ehr_procedure_occurrence` AS t1\n",
    "    INNER JOIN\n",
    "        `{}.unioned_ehr_death` AS t2\n",
    "        ON\n",
    "            t1.person_id=t2.person_id\n",
    "    INNER JOIN\n",
    "        (SELECT\n",
    "            DISTINCT * \n",
    "        FROM\n",
    "             `{}._mapping_procedure_occurrence`)  AS t3\n",
    "    ON\n",
    "        t1.procedure_occurrence_id=t3.procedure_occurrence_id\n",
    "    GROUP BY\n",
    "        1\n",
    "    '''.format(DATASET, DATASET,DATASET,DATASET,DATASET,DATASET),\n",
    "                    dialect='standard')\n",
    "temporal_df.shape\n",
    "\n",
    "print(temporal_df.shape[0], 'records received.')"
   ]
  },
  {
   "cell_type": "code",
   "execution_count": null,
   "metadata": {},
   "outputs": [],
   "source": [
    "temporal_df['succes_rate']=100-round(100*temporal_df['wrong_death_date']/temporal_df['total'],1)\n",
    "temporal_df"
   ]
  },
  {
   "cell_type": "code",
   "execution_count": null,
   "metadata": {},
   "outputs": [],
   "source": [
    "procedure_occurrence=temporal_df.rename(columns={\"succes_rate\":\"procedure_occurrence\"})\n",
    "procedure_occurrence=procedure_occurrence[[\"src_hpo_id\",\"procedure_occurrence\"]]\n",
    "procedure_occurrence=procedure_occurrence.fillna(100)\n",
    "procedure_occurrence"
   ]
  },
  {
   "cell_type": "markdown",
   "metadata": {},
   "source": [
    "## Observation Table"
   ]
  },
  {
   "cell_type": "code",
   "execution_count": null,
   "metadata": {},
   "outputs": [],
   "source": [
    "######################################\n",
    "print('Getting the data from the database...')\n",
    "######################################\n",
    "\n",
    "temporal_df = pd.io.gbq.read_gbq('''\n",
    "    SELECT\n",
    "        src_hpo_id,\n",
    "        COUNT(*) AS total,\n",
    "        sum(case when (DATE_DIFF(observation_date, death_date, DAY)>30) then 1 else 0 end) as wrong_death_date\n",
    "    FROM\n",
    "       `{}.unioned_ehr_observation` AS t1\n",
    "    INNER JOIN\n",
    "        `{}.unioned_ehr_death` AS t2\n",
    "        ON\n",
    "            t1.person_id=t2.person_id\n",
    "    INNER JOIN\n",
    "        (SELECT\n",
    "            DISTINCT * \n",
    "        FROM\n",
    "             `{}._mapping_observation`)  AS t3\n",
    "    ON\n",
    "        t1.observation_id=t3.observation_id\n",
    "    GROUP BY\n",
    "        1\n",
    "    '''.format(DATASET, DATASET,DATASET,DATASET,DATASET,DATASET),\n",
    "                    dialect='standard')\n",
    "temporal_df.shape\n",
    "\n",
    "print(temporal_df.shape[0], 'records received.')"
   ]
  },
  {
   "cell_type": "code",
   "execution_count": null,
   "metadata": {},
   "outputs": [],
   "source": [
    "temporal_df['succes_rate']=100-round(100*temporal_df['wrong_death_date']/temporal_df['total'],1)\n",
    "temporal_df"
   ]
  },
  {
   "cell_type": "code",
   "execution_count": null,
   "metadata": {},
   "outputs": [],
   "source": [
    "observation=temporal_df.rename(columns={\"succes_rate\":\"observation\"})\n",
    "observation=observation[[\"src_hpo_id\",\"observation\"]]\n",
    "observation=observation.fillna(100)\n",
    "observation"
   ]
  },
  {
   "cell_type": "markdown",
   "metadata": {},
   "source": [
    "## Device Exposure Table"
   ]
  },
  {
   "cell_type": "code",
   "execution_count": null,
   "metadata": {},
   "outputs": [],
   "source": [
    "######################################\n",
    "print('Getting the data from the database...')\n",
    "######################################\n",
    "\n",
    "temporal_df = pd.io.gbq.read_gbq('''\n",
    "    SELECT\n",
    "        src_hpo_id,\n",
    "        COUNT(*) AS total,\n",
    "        sum(case when (DATE_DIFF(device_exposure_start_date, death_date, DAY)>30) then 1 else 0 end) as wrong_death_date\n",
    "    FROM\n",
    "       `{}.unioned_ehr_device_exposure` AS t1\n",
    "    INNER JOIN\n",
    "        `{}.unioned_ehr_death` AS t2\n",
    "        ON\n",
    "            t1.person_id=t2.person_id\n",
    "    INNER JOIN\n",
    "        (SELECT\n",
    "            DISTINCT * \n",
    "        FROM\n",
    "             `{}._mapping_device_exposure`)  AS t3\n",
    "    ON\n",
    "        t1.device_exposure_id=t3.device_exposure_id\n",
    "    GROUP BY\n",
    "        1\n",
    "    '''.format(DATASET, DATASET,DATASET,DATASET,DATASET,DATASET),\n",
    "                    dialect='standard')\n",
    "temporal_df.shape\n",
    "\n",
    "print(temporal_df.shape[0], 'records received.')"
   ]
  },
  {
   "cell_type": "code",
   "execution_count": null,
   "metadata": {},
   "outputs": [],
   "source": [
    "temporal_df['succes_rate']=100-round(100*temporal_df['wrong_death_date']/temporal_df['total'],1)\n",
    "temporal_df"
   ]
  },
  {
   "cell_type": "code",
   "execution_count": null,
   "metadata": {},
   "outputs": [],
   "source": [
    "device_exposure=temporal_df.rename(columns={\"succes_rate\":\"device_exposure\"})\n",
    "device_exposure=device_exposure[[\"src_hpo_id\",\"device_exposure\"]]\n",
    "device_exposure=device_exposure.fillna(100)\n",
    "device_exposure"
   ]
  },
  {
   "cell_type": "markdown",
   "metadata": {},
   "source": [
    "## 4. Succes Rate Temporal Data Points - Data After Death Date"
   ]
  },
  {
   "cell_type": "code",
   "execution_count": null,
   "metadata": {},
   "outputs": [],
   "source": [
    "datas=[\n",
    "       condition_occurrence,drug_exposure\n",
    "       ,measurement,procedure_occurrence,observation,device_exposure\n",
    "]"
   ]
  },
  {
   "cell_type": "code",
   "execution_count": null,
   "metadata": {},
   "outputs": [],
   "source": [
    "master_df=visit_occurrence"
   ]
  },
  {
   "cell_type": "code",
   "execution_count": null,
   "metadata": {},
   "outputs": [],
   "source": [
    "for filename in datas:\n",
    "    master_df = pd.merge(master_df,filename,on='src_hpo_id',how='outer')"
   ]
  },
  {
   "cell_type": "code",
   "execution_count": null,
   "metadata": {},
   "outputs": [],
   "source": [
    "master_df"
   ]
  },
  {
   "cell_type": "code",
   "execution_count": null,
   "metadata": {},
   "outputs": [],
   "source": [
    "succes_rate=pd.merge(master_df,site_df,how='outer',on='src_hpo_id')\n",
    "succes_rate=succes_rate.fillna(\"No Data\")"
   ]
  },
  {
   "cell_type": "code",
   "execution_count": null,
   "metadata": {},
   "outputs": [],
   "source": [
    "succes_rate.to_csv(\"data\\\\data_after_date.csv\")"
   ]
  },
  {
   "cell_type": "markdown",
   "metadata": {},
   "source": [
    "# Age of participant should NOT be below 18 and should NOT be too high (Achilles rule_id #20 and 21)"
   ]
  },
  {
   "cell_type": "markdown",
   "metadata": {},
   "source": [
    "## Count number of unique participants with age <18 "
   ]
  },
  {
   "cell_type": "code",
   "execution_count": null,
   "metadata": {},
   "outputs": [],
   "source": [
    "\n",
    "\n",
    "######################################\n",
    "print('Getting the data from the database...')\n",
    "######################################\n",
    "\n",
    "birth_df = pd.io.gbq.read_gbq('''\n",
    "    SELECT\n",
    "        COUNT(*) AS total,\n",
    "        sum(case when (DATE_DIFF(CURRENT_DATE, EXTRACT(DATE FROM birth_datetime), YEAR)<18) then 1 else 0 end) as wrong_death_date\n",
    "         \n",
    "    FROM\n",
    "       `{}.unioned_ehr_person` AS t1\n",
    "    '''.format(DATASET, DATASET,DATASET,DATASET,DATASET,DATASET),\n",
    "                    dialect='standard')\n",
    "print(birth_df.shape[0], 'records received.')"
   ]
  },
  {
   "cell_type": "code",
   "execution_count": null,
   "metadata": {},
   "outputs": [],
   "source": [
    "birth_df"
   ]
  },
  {
   "cell_type": "markdown",
   "metadata": {},
   "source": [
    "## Count number of unique participants with age >120"
   ]
  },
  {
   "cell_type": "code",
   "execution_count": null,
   "metadata": {},
   "outputs": [],
   "source": [
    "\n",
    "######################################\n",
    "print('Getting the data from the database...')\n",
    "######################################\n",
    "\n",
    "birth_df = pd.io.gbq.read_gbq('''\n",
    "    SELECT\n",
    "        COUNT(*) AS total,\n",
    "        sum(case when (DATE_DIFF(CURRENT_DATE, EXTRACT(DATE FROM birth_datetime), YEAR)>120) then 1 else 0 end) as wrong_death_date\n",
    "         \n",
    "    FROM\n",
    "       `{}.unioned_ehr_person` AS t1\n",
    "    '''.format(DATASET, DATASET,DATASET,DATASET,DATASET,DATASET),\n",
    "                    dialect='standard')\n",
    "print(birth_df.shape[0], 'records received.')"
   ]
  },
  {
   "cell_type": "code",
   "execution_count": null,
   "metadata": {},
   "outputs": [],
   "source": [
    "birth_df"
   ]
  },
  {
   "cell_type": "markdown",
   "metadata": {},
   "source": [
    "## Histogram"
   ]
  },
  {
   "cell_type": "code",
   "execution_count": null,
   "metadata": {},
   "outputs": [],
   "source": [
    "\n",
    "\n",
    "######################################\n",
    "print('Getting the data from the database...')\n",
    "######################################\n",
    "\n",
    "birth_df = pd.io.gbq.read_gbq('''\n",
    "    SELECT\n",
    "        DATE_DIFF(CURRENT_DATE, EXTRACT(DATE FROM birth_datetime), YEAR) as AGE    \n",
    "    FROM\n",
    "       `{}.unioned_ehr_person` AS t1\n",
    "    '''.format(DATASET, DATASET,DATASET,DATASET,DATASET,DATASET),\n",
    "                    dialect='standard')\n",
    "print(birth_df.shape[0], 'records received.')"
   ]
  },
  {
   "cell_type": "code",
   "execution_count": null,
   "metadata": {},
   "outputs": [],
   "source": [
    "birth_df.head()"
   ]
  },
  {
   "cell_type": "code",
   "execution_count": null,
   "metadata": {},
   "outputs": [],
   "source": [
    "birth_df['AGE'].hist(bins=88)"
   ]
  },
  {
   "cell_type": "markdown",
   "metadata": {},
   "source": [
    "# Participant should have supporting data in either lab results or drugs if he/she has a condition code for diabetes."
   ]
  },
  {
   "cell_type": "markdown",
   "metadata": {},
   "source": [
    "## T2D"
   ]
  },
  {
   "cell_type": "code",
   "execution_count": null,
   "metadata": {},
   "outputs": [],
   "source": [
    "######################################\n",
    "print('Getting the data from the database...')\n",
    "######################################\n",
    "\n",
    "t2d_condition  = pd.io.gbq.read_gbq('''\n",
    "        SELECT\n",
    "            DISTINCT\n",
    "            src_hpo_id,\n",
    "            person_id,\n",
    "            1 as t2d\n",
    "        FROM\n",
    "            `{}.concept` t1 \n",
    "        INNER JOIN\n",
    "            `{}.unioned_ehr_condition_occurrence` AS t2\n",
    "        ON\n",
    "            t1.concept_id=t2.condition_concept_id\n",
    "        INNER JOIN\n",
    "            (SELECT\n",
    "                DISTINCT * \n",
    "            FROM \n",
    "                `{}._mapping_condition_occurrence`)  AS t3\n",
    "        ON\n",
    "            t3.condition_occurrence_id=t2.condition_occurrence_id\n",
    "        WHERE concept_id in (4140466,43531588,45769888,45763582,37018912,43531578,\n",
    "        43531559,43531566,43531653,43531577,43531562,37016163,45769894,45757474,\n",
    "        37016768,4221495,43531616,43531564,443767,443733,43530689,4226121,36712686,\n",
    "        36712687,43531608,43531597,443732,45757280,45769906,4177050,4223463,43530690,45769890,\n",
    "        37018728,45772019,45769889,37016349,45770880,45757392,45771064,45757447,45757446,45757445,\n",
    "        45757444,45757363,45772060,36714116,45769875,4130162,45771072,45770830,45769905,45757435,43531651,\n",
    "        45770881,4222415,45769828,376065,45757450,45770883,45757255,37016354,43530656,45769836,443729,45757278,\n",
    "        37017432,4063043,43531010,4129519,43530685,45770831,45757499,443731,45770928,45757075,45769872,45769835,\n",
    "        36712670,46274058,4142579,45770832,45773064,201826,4230254,4304377,4321756,4196141,4099217,201530,4151282,\n",
    "        4099216,4198296,4193704,4200875,4099651,45766052,40482801,45757277,45757449)\n",
    "        and (invalid_reason is null or invalid_reason='')\n",
    "        GROUP BY\n",
    "            1,2\n",
    "        ORDER BY\n",
    "            1,2 desc\n",
    "    '''.format(DATASET, DATASET,DATASET,DATASET,DATASET,DATASET),\n",
    "                    dialect='standard')\n",
    "t2d_condition.shape\n",
    "\n"
   ]
  },
  {
   "cell_type": "code",
   "execution_count": null,
   "metadata": {},
   "outputs": [],
   "source": [
    "t2d_condition.head()"
   ]
  },
  {
   "cell_type": "markdown",
   "metadata": {},
   "source": [
    "## Drug"
   ]
  },
  {
   "cell_type": "code",
   "execution_count": null,
   "metadata": {},
   "outputs": [],
   "source": [
    "######################################\n",
    "print('Getting the data from the database...')\n",
    "######################################\n",
    "\n",
    "drug  = pd.io.gbq.read_gbq('''\n",
    "    SELECT\n",
    "            DISTINCT\n",
    "            src_hpo_id,\n",
    "            person_id,\n",
    "            1 as drug\n",
    "        FROM\n",
    "            `{}.concept`  AS t1\n",
    "        INNER JOIN\n",
    "            `{}.unioned_ehr_drug_exposure` AS t2\n",
    "        ON\n",
    "            t1.concept_id=t2.drug_concept_id\n",
    "        INNER JOIN\n",
    "            (SELECT\n",
    "                DISTINCT * \n",
    "            FROM\n",
    "                 `{}._mapping_drug_exposure`)  AS t3\n",
    "        ON\n",
    "            t3.drug_exposure_id=t2.drug_exposure_id\n",
    "        WHERE concept_id in (1529331,1530014,1594973,1583722,1597756,1560171,19067100,1559684,1503297,1510202,1502826,\n",
    "        1525215,1516766,1547504,1580747,1502809,1515249)and (invalid_reason is null or invalid_reason='')\n",
    "    UNION DISTINCT \n",
    "        select \n",
    "            DISTINCT\n",
    "            src_hpo_id,\n",
    "            person_id,\n",
    "            1 as drug\n",
    "                FROM\n",
    "                    `{}.concept`  AS t4\n",
    "                INNER JOIN \n",
    "                    `{}.concept_ancestor` AS t5\n",
    "                ON \n",
    "                    t4.concept_id = t5.descendant_concept_id\n",
    "                INNER JOIN\n",
    "                    `{}.unioned_ehr_drug_exposure` AS t6\n",
    "                ON\n",
    "                    t4.concept_id=t6.drug_concept_id\n",
    "                INNER JOIN\n",
    "                    (SELECT\n",
    "                        DISTINCT * \n",
    "                    FROM\n",
    "                         `{}._mapping_drug_exposure`)  AS t7\n",
    "                ON\n",
    "                    t7.drug_exposure_id=t6.drug_exposure_id\n",
    "          and t5.ancestor_concept_id in (1529331,1530014,1594973,1583722,1597756,1560171,19067100,1559684,1503297,1510202,\n",
    "          1502826,1525215,1516766,1547504,1580747,1502809,1515249)\n",
    "          and (t4.invalid_reason is null or t4.invalid_reason='')\n",
    "    '''.format(DATASET, DATASET,DATASET,DATASET,DATASET,DATASET,DATASET,DATASET,DATASET,DATASET,DATASET,DATASET,DATASET,DATASET),\n",
    "                    dialect='standard')\n",
    "drug.shape"
   ]
  },
  {
   "cell_type": "code",
   "execution_count": null,
   "metadata": {},
   "outputs": [],
   "source": [
    "drug.head(15)"
   ]
  },
  {
   "cell_type": "markdown",
   "metadata": {},
   "source": [
    "## glucose_lab"
   ]
  },
  {
   "cell_type": "code",
   "execution_count": null,
   "metadata": {},
   "outputs": [],
   "source": [
    "######################################\n",
    "print('Getting the data from the database...')\n",
    "######################################\n",
    "\n",
    "glucose_lab = pd.io.gbq.read_gbq('''\n",
    "    SELECT\n",
    "            DISTINCT\n",
    "            src_hpo_id,\n",
    "            person_id,\n",
    "            1 as drug\n",
    "        FROM\n",
    "            `{}.concept`  as t1\n",
    "        INNER JOIN\n",
    "            `{}.unioned_ehr_measurement` AS t2\n",
    "        ON\n",
    "            t1.concept_id=t2.measurement_concept_id\n",
    "        INNER JOIN\n",
    "            (SELECT\n",
    "                DISTINCT * \n",
    "            FROM\n",
    "                 `{}._mapping_measurement`)  AS t3\n",
    "        ON\n",
    "            t2.measurement_id=t3.measurement_id\n",
    "        WHERE \n",
    "            concept_id in (3004501,3000483) and (invalid_reason is null or invalid_reason='')\n",
    "\n",
    "    '''.format(DATASET, DATASET,DATASET,DATASET,DATASET,DATASET),\n",
    "                    dialect='standard')\n",
    "glucose_lab.shape"
   ]
  },
  {
   "cell_type": "code",
   "execution_count": null,
   "metadata": {},
   "outputs": [],
   "source": [
    "glucose_lab.head()"
   ]
  },
  {
   "cell_type": "markdown",
   "metadata": {},
   "source": [
    "\n",
    "-glucose lab may not be a got clasifier"
   ]
  },
  {
   "cell_type": "markdown",
   "metadata": {},
   "source": [
    "## fasting_glucose"
   ]
  },
  {
   "cell_type": "code",
   "execution_count": null,
   "metadata": {},
   "outputs": [],
   "source": [
    "######################################\n",
    "print('Getting the data from the database...')\n",
    "######################################\n",
    "\n",
    "fasting_glucose = pd.io.gbq.read_gbq('''\n",
    "    SELECT\n",
    "            DISTINCT\n",
    "            src_hpo_id,\n",
    "            person_id,\n",
    "            1 as drug\n",
    "        FROM\n",
    "            `{}.concept`  as t1\n",
    "        INNER JOIN\n",
    "            `{}.unioned_ehr_measurement` AS t2\n",
    "        ON\n",
    "            t1.concept_id=t2.measurement_concept_id\n",
    "        INNER JOIN\n",
    "            (SELECT\n",
    "                DISTINCT * \n",
    "            FROM\n",
    "                 `{}._mapping_measurement`)  AS t3\n",
    "        ON\n",
    "            t2.measurement_id=t3.measurement_id\n",
    "        WHERE\n",
    "            concept_id  in (3037110) and (invalid_reason is null or invalid_reason='')\n",
    "\n",
    "    '''.format(DATASET, DATASET,DATASET,DATASET,DATASET,DATASET),\n",
    "                    dialect='standard')\n",
    "fasting_glucose.shape"
   ]
  },
  {
   "cell_type": "code",
   "execution_count": null,
   "metadata": {},
   "outputs": [],
   "source": [
    "fasting_glucose.head()"
   ]
  },
  {
   "cell_type": "markdown",
   "metadata": {},
   "source": [
    "## a1c"
   ]
  },
  {
   "cell_type": "code",
   "execution_count": null,
   "metadata": {},
   "outputs": [],
   "source": [
    "######################################\n",
    "print('Getting the data from the database...')\n",
    "######################################\n",
    "\n",
    "a1c = pd.io.gbq.read_gbq('''\n",
    "    SELECT\n",
    "            DISTINCT\n",
    "            src_hpo_id,\n",
    "            person_id,\n",
    "            1 as drug\n",
    "        FROM\n",
    "            `{}.concept`  as t1\n",
    "        INNER JOIN\n",
    "            `{}.unioned_ehr_measurement` AS t2\n",
    "        ON\n",
    "            t1.concept_id=t2.measurement_concept_id\n",
    "        INNER JOIN\n",
    "            (SELECT\n",
    "                DISTINCT * \n",
    "            FROM\n",
    "                 `{}._mapping_measurement`)  AS t3\n",
    "        ON\n",
    "            t2.measurement_id=t3.measurement_id\n",
    "        WHERE concept_id  in (3004410,3007263,3003309,3005673) and (invalid_reason is null or invalid_reason='')\n",
    "\n",
    "    '''.format(DATASET, DATASET,DATASET,DATASET,DATASET,DATASET),\n",
    "                    dialect='standard')\n",
    "a1c.shape"
   ]
  },
  {
   "cell_type": "code",
   "execution_count": null,
   "metadata": {},
   "outputs": [],
   "source": [
    "a1c.head()"
   ]
  },
  {
   "cell_type": "markdown",
   "metadata": {},
   "source": [
    "## t1d_condition"
   ]
  },
  {
   "cell_type": "code",
   "execution_count": null,
   "metadata": {},
   "outputs": [],
   "source": [
    "\n",
    "######################################\n",
    "print('Getting the data from the database...')\n",
    "######################################\n",
    "\n",
    "t1d_condition = pd.io.gbq.read_gbq('''\n",
    "    SELECT\n",
    "            DISTINCT\n",
    "            src_hpo_id,\n",
    "            person_id,\n",
    "            1 as t1d\n",
    "        FROM\n",
    "            `{}.concept` t1 \n",
    "        INNER JOIN\n",
    "            `{}.unioned_ehr_condition_occurrence` AS t2\n",
    "        ON\n",
    "            t1.concept_id=t2.condition_concept_id\n",
    "        INNER JOIN\n",
    "            (SELECT\n",
    "                DISTINCT * \n",
    "            FROM \n",
    "                `{}._mapping_condition_occurrence`)  AS t3\n",
    "        ON\n",
    "            t3.condition_occurrence_id=t2.condition_occurrence_id\n",
    "        WHERE concept_id  in (36715571,4143857,45769891,45763585,45773688,45773576,45769901,45771075,45769902,45769903,45769837,\n",
    "        45757674,37016767,4225656,45769832,43531565,373999,4227210,45757074,435216,37016353,45769904,45757507,45769892,37017429,\n",
    "        45771068,37016348,45757432,443592,45757393,45771067,45769876,4228112,45757362,4047906,4102018,36717215,439770,4224254,\n",
    "        45757535,37016179,43530660,37016180,4225055,4224709,45769829,377821,45769830,45763583,45769834,36713094,318712,37018566,\n",
    "        4222687,4222553,37017431,4063042,43531008,43531009,45763584,45757604,200687,45757266,45757073,45771533,45773567,\n",
    "        45769833,46269764,4143689,45769873,201254,4099215,40484648,4152858,4096668,201531,4151281,443412,4295011,4099214,\n",
    "        45766051,45770902) \n",
    "        and (invalid_reason is null or invalid_reason='')\n",
    "\n",
    "    '''.format(DATASET, DATASET,DATASET,DATASET,DATASET,DATASET),\n",
    "                    dialect='standard')\n",
    "t1d_condition.shape"
   ]
  },
  {
   "cell_type": "code",
   "execution_count": null,
   "metadata": {},
   "outputs": [],
   "source": [
    "t1d_condition.head()"
   ]
  },
  {
   "cell_type": "markdown",
   "metadata": {},
   "source": [
    "## insulin"
   ]
  },
  {
   "cell_type": "code",
   "execution_count": null,
   "metadata": {},
   "outputs": [],
   "source": [
    "######################################\n",
    "print('Getting the data from the database...')\n",
    "######################################\n",
    "\n",
    "insulin  = pd.io.gbq.read_gbq('''\n",
    "    SELECT\n",
    "            DISTINCT\n",
    "            src_hpo_id,\n",
    "            person_id,\n",
    "            1 as insulin\n",
    "        FROM\n",
    "            `{}.concept`  AS t1\n",
    "        INNER JOIN\n",
    "            `{}.unioned_ehr_drug_exposure` AS t2\n",
    "        ON\n",
    "            t1.concept_id=t2.drug_concept_id\n",
    "        INNER JOIN\n",
    "            (SELECT\n",
    "                DISTINCT * \n",
    "            FROM\n",
    "                 `{}._mapping_drug_exposure`)  AS t3\n",
    "        ON\n",
    "            t3.drug_exposure_id=t2.drug_exposure_id\n",
    "        WHERE t1.concept_id in (19122121,1567198,1531601,1516976,1502905,1544838,1550023,1513876,1517998) \n",
    "        and (t1.invalid_reason is null or t1.invalid_reason='')\n",
    "    UNION DISTINCT \n",
    "        SELECT \n",
    "            DISTINCT\n",
    "            src_hpo_id,\n",
    "            person_id,\n",
    "            1 as drug\n",
    "                FROM\n",
    "                    `{}.concept`  AS t4\n",
    "                INNER JOIN \n",
    "                    `{}.concept_ancestor` AS t5\n",
    "                ON \n",
    "                    t4.concept_id = t5.descendant_concept_id\n",
    "                INNER JOIN\n",
    "                    `{}.unioned_ehr_drug_exposure` AS t6\n",
    "                ON\n",
    "                    t4.concept_id=t6.drug_concept_id\n",
    "                INNER JOIN\n",
    "                    (SELECT\n",
    "                        DISTINCT * \n",
    "                    FROM\n",
    "                         `{}._mapping_drug_exposure`)  AS t7\n",
    "                ON\n",
    "                    t7.drug_exposure_id=t6.drug_exposure_id\n",
    "          and t5.ancestor_concept_id in (19122121,1567198,1531601,1516976,1502905,1544838,1550023,1513876,1517998)\n",
    "          and (t4.invalid_reason is null or t4.invalid_reason='')\n",
    "    '''.format(DATASET, DATASET,DATASET,DATASET,DATASET,DATASET, DATASET,DATASET,DATASET,DATASET,DATASET, DATASET,DATASET,DATASET,DATASET,DATASET),\n",
    "                    dialect='standard')\n",
    "insulin.shape"
   ]
  },
  {
   "cell_type": "code",
   "execution_count": null,
   "metadata": {},
   "outputs": [],
   "source": [
    "insulin.head(15)\n"
   ]
  },
  {
   "cell_type": "code",
   "execution_count": null,
   "metadata": {},
   "outputs": [],
   "source": [
    "diabet=pd.merge(t2d_condition,t1d_condition,on=[\"src_hpo_id\",\"person_id\"],how=\"outer\")\n",
    "diabet[\"diabetes\"]=1"
   ]
  },
  {
   "cell_type": "code",
   "execution_count": null,
   "metadata": {},
   "outputs": [],
   "source": [
    "diabet=diabet.loc[:,[\"src_hpo_id\",\"person_id\",\"diabetes\"]]\n",
    "diabet.shape"
   ]
  },
  {
   "cell_type": "code",
   "execution_count": null,
   "metadata": {},
   "outputs": [],
   "source": [
    "diabet.head()"
   ]
  },
  {
   "cell_type": "code",
   "execution_count": null,
   "metadata": {},
   "outputs": [],
   "source": [
    "total_diab=diabet.drop_duplicates(keep=False, inplace=False)\n",
    "total_diab.shape"
   ]
  },
  {
   "cell_type": "code",
   "execution_count": null,
   "metadata": {},
   "outputs": [],
   "source": [
    "total_diab=total_diab.groupby([\"src_hpo_id\"]).size().reset_index().rename(columns={0:'total_diabetes'}).sort_values([\"total_diabetes\"])\n",
    "total_diab"
   ]
  },
  {
   "cell_type": "code",
   "execution_count": null,
   "metadata": {},
   "outputs": [],
   "source": [
    "test=pd.merge(drug,glucose_lab,on=[\"src_hpo_id\",\"person_id\"],how=\"outer\")\n",
    "test=pd.merge(test,fasting_glucose,on=[\"src_hpo_id\",\"person_id\"],how=\"outer\")\n",
    "test=pd.merge(test,a1c,on=[\"src_hpo_id\",\"person_id\"],how=\"outer\")\n",
    "test=pd.merge(test,insulin,on=[\"src_hpo_id\",\"person_id\"],how=\"outer\")\n",
    "test[\"tests\"]=1"
   ]
  },
  {
   "cell_type": "code",
   "execution_count": null,
   "metadata": {},
   "outputs": [],
   "source": [
    "test=test.loc[:,[\"src_hpo_id\",\"person_id\",\"tests\"]]\n",
    "test.shape"
   ]
  },
  {
   "cell_type": "code",
   "execution_count": null,
   "metadata": {},
   "outputs": [],
   "source": [
    "test.head()"
   ]
  },
  {
   "cell_type": "code",
   "execution_count": null,
   "metadata": {},
   "outputs": [],
   "source": [
    "total_test=test.drop_duplicates(keep=False, inplace=False)\n",
    "total_test.shape"
   ]
  },
  {
   "cell_type": "code",
   "execution_count": null,
   "metadata": {},
   "outputs": [],
   "source": [
    "total_test=total_test.groupby([\"src_hpo_id\"]).size().reset_index().rename(columns={0:'total_diabetes'}).sort_values([\"total_diabetes\"])\n",
    "total_test"
   ]
  },
  {
   "cell_type": "code",
   "execution_count": null,
   "metadata": {},
   "outputs": [],
   "source": [
    "diabetes_and_test=pd.merge(test,diabet,on=[\"src_hpo_id\",\"person_id\"],how=\"outer\")"
   ]
  },
  {
   "cell_type": "code",
   "execution_count": null,
   "metadata": {},
   "outputs": [],
   "source": [
    "diabetes_and_test.head()"
   ]
  },
  {
   "cell_type": "code",
   "execution_count": null,
   "metadata": {},
   "outputs": [],
   "source": [
    "mistakes=diabetes_and_test.loc[(diabetes_and_test[\"tests\"].isnull()) & (diabetes_and_test[\"diabetes\"]==1),:]"
   ]
  },
  {
   "cell_type": "code",
   "execution_count": null,
   "metadata": {},
   "outputs": [],
   "source": [
    "mistakes.shape"
   ]
  },
  {
   "cell_type": "code",
   "execution_count": null,
   "metadata": {},
   "outputs": [],
   "source": [
    "mistakes.head(5)"
   ]
  },
  {
   "cell_type": "code",
   "execution_count": null,
   "metadata": {},
   "outputs": [],
   "source": [
    "diabets_no_proof=mistakes.groupby(['src_hpo_id']).size().reset_index().rename(columns={0:'diabets_no_proof'}).sort_values([\"diabets_no_proof\"])\n",
    "diabets_no_proof"
   ]
  },
  {
   "cell_type": "code",
   "execution_count": null,
   "metadata": {},
   "outputs": [],
   "source": [
    "combined=diabetes_and_test=pd.merge(diabets_no_proof,total_diab,on=[\"src_hpo_id\"],how=\"outer\")\n",
    "combined=combined.fillna(0)\n"
   ]
  },
  {
   "cell_type": "code",
   "execution_count": null,
   "metadata": {},
   "outputs": [],
   "source": [
    "combined.to_csv(\"data\\\\diabets.csv\")"
   ]
  },
  {
   "cell_type": "code",
   "execution_count": null,
   "metadata": {},
   "outputs": [],
   "source": []
  },
  {
   "cell_type": "code",
   "execution_count": null,
   "metadata": {},
   "outputs": [],
   "source": []
  },
  {
   "cell_type": "code",
   "execution_count": null,
   "metadata": {},
   "outputs": [],
   "source": []
  }
 ],
 "metadata": {
  "kernelspec": {
   "display_name": "Python 3",
   "language": "python",
   "name": "python3"
  },
  "language_info": {
   "codemirror_mode": {
    "name": "ipython",
    "version": 3
   },
   "file_extension": ".py",
   "mimetype": "text/x-python",
   "name": "python",
   "nbconvert_exporter": "python",
   "pygments_lexer": "ipython3",
   "version": "3.6.8"
  }
 },
 "nbformat": 4,
 "nbformat_minor": 2
}
