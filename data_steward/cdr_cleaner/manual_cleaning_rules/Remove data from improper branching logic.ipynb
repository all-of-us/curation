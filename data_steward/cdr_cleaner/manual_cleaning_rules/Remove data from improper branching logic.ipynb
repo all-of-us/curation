{
 "cells": [
  {
   "cell_type": "markdown",
   "metadata": {},
   "source": [
    "# REQUIREMENTS\n",
    "\n",
    "Remove data for questions participants should not have received (based on improper branching logic)\n",
    "\n",
    "Data for child questions should only occur for those participants who should have received the questions based on the skip and branching logic of the PPI survey. For the identified PIDs for each question, drop the row."
   ]
  },
  {
   "cell_type": "markdown",
   "metadata": {},
   "source": [
    "## Set up"
   ]
  },
  {
   "cell_type": "code",
   "execution_count": null,
   "metadata": {},
   "outputs": [],
   "source": [
    "library(plyr) \n",
    "library(dplyr)\n",
    "library(tidyr)\n",
    "library(reticulate)\n",
    "library(crayon)\n"
   ]
  },
  {
   "cell_type": "code",
   "execution_count": null,
   "metadata": {},
   "outputs": [],
   "source": [
    "pd = reticulate::import(\"pandas\")"
   ]
  },
  {
   "cell_type": "code",
   "execution_count": null,
   "metadata": {},
   "outputs": [],
   "source": [
    "PROJECT_ID = ''"
   ]
  },
  {
   "cell_type": "markdown",
   "metadata": {},
   "source": [
    "## Load the PIDs with data to be removed \n",
    "\n",
    "This is a list of pids identified by the team who received child questions that they should not have received based on their answers to the parent questions."
   ]
  },
  {
   "cell_type": "code",
   "execution_count": null,
   "metadata": {},
   "outputs": [],
   "source": [
    "pids_rem_lifestyle <- read.csv(\"AC67_rem_lifestyle.csv\")  # pids for lifestyle questions\n",
    "pids_rem_overallh <- read.csv(\"AC67_rem_overallh.csv\") # pids for overall health questions\n",
    "pids_rem_personalmed <- read.csv(\"AC67_rem_personalmed.csv\") # pids for personam medical history questions\n",
    "pids_rem_hcau <- read.csv(\"AC67_rem_hcau.csv\") # pids for hcau- insurance questions\n"
   ]
  },
  {
   "cell_type": "markdown",
   "metadata": {},
   "source": [
    "# ```HCAU``` QUESTIONS\n",
    "The SQL query below will delete from the observation table all the records for the person_ids in ```pids_remv_hcau``` related to these child HCAU questions \n"
   ]
  },
  {
   "cell_type": "code",
   "execution_count": null,
   "metadata": {},
   "outputs": [],
   "source": [
    "pids_remv_hcau <- na.omit(c(pids_rem_hcau[,1], pids_rem_hcau[,2]))\n",
    "pids_remv_hcau <- as.numeric(paste(pids_remv_hcau, sep = ','))"
   ]
  },
  {
   "cell_type": "code",
   "execution_count": null,
   "metadata": {},
   "outputs": [],
   "source": [
    "# query to find the correct observation_source_concept_ids\n",
    "pd$read_gbq(\" \n",
    "\n",
    "SELECT DISTINCT observation_source_concept_id, concept_name, concept_code\n",
    "\n",
    "FROM `{}.observation` o\n",
    "INNER JOIN `{}.concept` c ON o.observation_source_concept_id = c.concept_id\n",
    "WHERE concept_code LIKE '%Insurance_InsuranceType%' #hcau\n",
    "OR concept_code LIKE 'HealthInsurance_InsuranceTypeUpdate'#hcau\n",
    "\",PROJECT_ID, dialect=\"standard\")\n"
   ]
  },
  {
   "cell_type": "code",
   "execution_count": null,
   "metadata": {},
   "outputs": [],
   "source": [
    "## QUERY TO REMOVE RECORDS FOR THESE PIDS RECORDS  \n",
    "\n",
    "pd$read_gbq(sprintf(\" \n",
    "\n",
    "DELETE \n",
    " FROM `{}.observation` \n",
    " WHERE person_id IN (%s)\n",
    "    AND (observation_source_concept_id = 43528428 #hcau\n",
    "    OR observation_source_concept_id = 1384450) #hcau\n",
    "#ORDER BY concept_code\n",
    "\", pids_remv_hcau), PROJECT_ID, dialect=\"standard\")\n"
   ]
  },
  {
   "cell_type": "markdown",
   "metadata": {},
   "source": [
    "# ```PERSONAL MEDICAL HISTORY``` QUESTIONS¶"
   ]
  },
  {
   "cell_type": "code",
   "execution_count": null,
   "metadata": {},
   "outputs": [],
   "source": [
    "pids_remv_personalmed <- na.omit(c(pids_rem_personalmed[,1], pids_rem_personalmed[,2], pids_rem_personalmed[,3]))\n",
    "pids_remv_personalmed <- as.character(paste0(pids_remv_personalmed, sep = ''))"
   ]
  },
  {
   "cell_type": "code",
   "execution_count": null,
   "metadata": {},
   "outputs": [],
   "source": [
    "# query to find the correct observation_source_concept_ids\n",
    "pd$read_gbq(\" \n",
    "\n",
    "SELECT DISTINCT observation_source_concept_id, concept_name, concept_code\n",
    "\n",
    "FROM `{}.observation` o\n",
    "INNER JOIN `{}.concept` c ON o.observation_source_concept_id = c.concept_id\n",
    "WHERE concept_code LIKE 'NervousSystem_DementiaCurrently'#personal medical hist\n",
    "OR concept_code LIKE 'NervousSystem_HowOldWereYouDementia'#personal medical hist  ### COULD NOT FIND QUESTION IN CDR\n",
    "OR concept_code LIKE 'NervousSystem_RxMedsforDementia'#personal medical hist\n",
    "\", PROJECT_ID, dialect=\"standard\")\n"
   ]
  },
  {
   "cell_type": "code",
   "execution_count": null,
   "metadata": {},
   "outputs": [],
   "source": [
    "## QUERY TO REMOVE RECORDS FOR THESE PIDS RECORDS  \n",
    "\n",
    "pd$read_gbq(sprintf(\" \n",
    "\n",
    "DELETE \n",
    " FROM `{}.observation` \n",
    " WHERE person_id IN (%s)\n",
    " AND (observation_source_concept_id = 43530367 #NervousSystem_DementiaCurrently\n",
    "     # OR observation_source_concept_id = ??? #NervousSystem_HowOldWereYouDementia ### COULD NOT FIND THIS QUESTION IN CDR\n",
    "      OR observation_source_concept_id = 43528852) #NervousSystem_RxMedsforDementia\n",
    "\", pids_remv_personalmed), PROJECT_ID, dialect=\"standard\")\n"
   ]
  },
  {
   "cell_type": "markdown",
   "metadata": {},
   "source": [
    "# REMOVE THESE PIDS FOR THESE ```overall health``` QUESTIONS¶"
   ]
  },
  {
   "cell_type": "code",
   "execution_count": null,
   "metadata": {},
   "outputs": [],
   "source": [
    "pids_remv_overallh <- na.omit(c(pids_rem_overallh[,1], pids_rem_overallh[,2], pids_rem_overallh[,3], pids_rem_overallh[,4]))\n",
    "pids_remv_overallh <- as.character(paste0(pids_remv_overallh, sep = ''))"
   ]
  },
  {
   "cell_type": "code",
   "execution_count": null,
   "metadata": {},
   "outputs": [],
   "source": [
    "# query to find the correct observation_source_concept_ids\n",
    "pd$read_gbq(\" \n",
    "\n",
    "SELECT DISTINCT observation_source_concept_id, concept_name, concept_code\n",
    "\n",
    "FROM `{}.observation` o\n",
    "INNER JOIN `{}.concept` c ON o.observation_source_concept_id = c.concept_id\n",
    "WHERE ( concept_code LIKE 'Pregnancy_1PregnancyStatus'#overall health\n",
    "OR c.concept_code LIKE 'YesNone_MenstrualStoppedReason'#overall health\n",
    "OR c.concept_code LIKE 'OverallHealth_HysterectomyHistory'#overall health\n",
    "OR c.concept_code LIKE 'OverallHealth_OvaryRemovalHistory')#overall health\n",
    "\", PROJECT_ID, dialect=\"standard\")\n"
   ]
  },
  {
   "cell_type": "code",
   "execution_count": null,
   "metadata": {},
   "outputs": [],
   "source": [
    "## QUERY TO REMOVE RECORDS FOR THESE PIDS RECORDS  \n",
    "\n",
    "pd$read_gbq(sprintf(\" \n",
    "\n",
    "DELETE \n",
    " FROM `{}.observation` \n",
    " WHERE person_id IN (%s)\n",
    " AND (observation_source_concept_id = 1585811 # Pregnancy_1PregnancyStatus\n",
    "    OR observation_source_concept_id = 1585789 #YesNone_MenstrualStoppedReason\n",
    "    OR observation_source_concept_id = 1585791 #OverallHealth_HysterectomyHistory\n",
    "    OR observation_source_concept_id = 1585796) #OverallHealth_OvaryRemovalHistory\n",
    "\", pids_remv_overallh), PROJECT_ID, dialect=\"standard\")\n"
   ]
  },
  {
   "cell_type": "markdown",
   "metadata": {},
   "source": [
    "# ```LIFESTYLE``` QUESTIONS¶"
   ]
  },
  {
   "cell_type": "code",
   "execution_count": null,
   "metadata": {},
   "outputs": [],
   "source": [
    "pids_remv_lifestyle <- na.omit(c(pids_rem_lifestyle[,1], pids_rem_lifestyle[,2], pids_rem_lifestyle[,3], \n",
    "                                pids_rem_lifestyle[,4], pids_rem_lifestyle[,5], pids_rem_lifestyle[,6], \n",
    "                                pids_rem_lifestyle[,7]))\n",
    "pids_remv_lifestyle <- as.character(paste0(pids_remv_lifestyle, sep = ''))"
   ]
  },
  {
   "cell_type": "code",
   "execution_count": null,
   "metadata": {},
   "outputs": [],
   "source": [
    "# query to find the correct observation_source_concept_ids\n",
    "pd$read_gbq(\" \n",
    "\n",
    "SELECT DISTINCT observation_source_concept_id, concept_name, concept_code\n",
    "\n",
    "FROM `{}.observation` o\n",
    "INNER JOIN `{}.concept` c ON o.observation_source_concept_id = c.concept_id\n",
    "WHERE \n",
    "(concept_code LIKE 'Smoking_DailySmokeStartingAge'#Lifestyle\n",
    "OR concept_code LIKE 'AttemptQuitSmoking_CompletelyQuitAge'#Lifestyle\n",
    "OR concept_code LIKE 'Smoking_NumberOfYears'#Lifestyle\n",
    "OR concept_code LIKE 'Smoking_CurrentDailyCigaretteNumber'#Lifestyle\n",
    "OR concept_code LIKE 'Smoking_AverageDailyCigaretteNumber'#Lifestyle\n",
    "OR concept_code LIKE 'Alcohol_AverageDailyDrinkCount'#Lifestyle\n",
    "OR concept_code LIKE 'Alcohol_6orMoreDrinksOccurence')#Lifestyle\n",
    "\", PROJECT_ID, dialect=\"standard\")\n"
   ]
  },
  {
   "cell_type": "code",
   "execution_count": null,
   "metadata": {},
   "outputs": [],
   "source": [
    "## QUERY TO REMOVE RECORDS FOR THESE PIDS RECORDS  \n",
    "\n",
    "pd$read_gbq(sprintf(\" \n",
    "\n",
    "DELETE \n",
    " FROM `{}.observation` \n",
    " WHERE person_id IN (%s)\n",
    " AND (observation_source_concept_id = 1585864 #Smoking_DailySmokeStartingAge\n",
    "        OR observation_source_concept_id = 1585870 #AttemptQuitSmoking_CompletelyQuitAge\n",
    "        OR observation_source_concept_id = 1585873 #Smoking_NumberOfYears'#Lifestyle\n",
    "        OR observation_source_concept_id = 1586159 #Smoking_CurrentDailyCigaretteNumber\n",
    "        OR observation_source_concept_id = 1586162 #Smoking_AverageDailyCigaretteNumber\n",
    "        OR observation_source_concept_id = 1586207 #Alcohol_AverageDailyDrinkCount\n",
    "        OR observation_source_concept_id = 1586213) #Alcohol_6orMoreDrinksOccurence\n",
    "\", pids_remv_lifestyle), PROJECT_ID, dialect=\"standard\")\n",
    " "
   ]
  },
  {
   "cell_type": "code",
   "execution_count": null,
   "metadata": {},
   "outputs": [],
   "source": []
  }
 ],
 "metadata": {
  "kernelspec": {
   "display_name": "Python 2",
   "language": "python",
   "name": "python2"
  },
  "language_info": {
   "codemirror_mode": {
    "name": "ipython",
    "version": 2
   },
   "file_extension": ".py",
   "mimetype": "text/x-python",
   "name": "python",
   "nbconvert_exporter": "python",
   "pygments_lexer": "ipython2",
   "version": "2.7.13"
  },
  "toc": {
   "base_numbering": 1.0,
   "nav_menu": {},
   "number_sections": true,
   "sideBar": true,
   "skip_h1_title": false,
   "title_cell": "Table of Contents",
   "title_sidebar": "Contents",
   "toc_cell": false,
   "toc_position": {},
   "toc_section_display": true,
   "toc_window_display": false
  }
 },
 "nbformat": 4,
 "nbformat_minor": 2
}
