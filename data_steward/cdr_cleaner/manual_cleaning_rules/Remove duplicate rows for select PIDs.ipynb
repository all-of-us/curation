{
 "cells": [
  {
   "cell_type": "code",
   "execution_count": null,
   "metadata": {},
   "outputs": [],
   "source": [
    "#######################################\n",
    "print('Setting everything up...')\n",
    "#######################################\n",
    "\n",
    "import warnings\n",
    "warnings.filterwarnings('ignore')\n",
    "\n",
    "import pandas as pd\n",
    "import numpy as np\n",
    "import matplotlib\n",
    "import matplotlib.pyplot as plt\n",
    "import matplotlib.lines as mlines\n",
    "from matplotlib.lines import Line2D\n",
    "\n",
    "import matplotlib.ticker as ticker\n",
    "import matplotlib.cm as cm\n",
    "import matplotlib as mpl\n",
    "\n",
    "import matplotlib.pyplot as plt\n",
    "%matplotlib inline\n",
    "import seaborn as sns\n",
    "\n",
    "\n",
    "import os\n",
    "import sys\n",
    "from datetime import datetime\n",
    "from datetime import date\n",
    "from datetime import time\n",
    "from datetime import timedelta\n",
    "from termcolor import colored\n",
    "import time\n",
    "\n",
    "DATASET = ''\n",
    "\n",
    "import seaborn as sns\n",
    "plt.style.use('ggplot')\n",
    "pd.options.display.max_rows = 999\n",
    "pd.options.display.max_columns = 999\n",
    "pd.options.display.max_colwidth = 999\n",
    "\n",
    "from IPython.display import HTML as html_print\n",
    "\n",
    "def cstr(s, color='black'):\n",
    "    return \"<text style=color:{}>{}</text>\".format(color, s)\n",
    "\n",
    "\n",
    "print('done.')"
   ]
  },
  {
   "cell_type": "code",
   "execution_count": null,
   "metadata": {},
   "outputs": [],
   "source": [
    "dub_pid = ()\n"
   ]
  },
  {
   "cell_type": "code",
   "execution_count": null,
   "metadata": {},
   "outputs": [],
   "source": [
    "######################################\n",
    "print('Getting the data from the database...')\n",
    "######################################\n",
    "\n",
    "dup_df = pd.io.gbq.read_gbq('''\n",
    "    SELECT\n",
    "        *\n",
    "    FROM\n",
    "       `{}.observation` AS t1\n",
    "    WHERE\n",
    "        person_id IN  {}\n",
    "    '''.format(DATASET, dub_pid),\n",
    "               dialect='standard')\n",
    "print(dup_df.shape[0], 'records received.')\n"
   ]
  },
  {
   "cell_type": "code",
   "execution_count": null,
   "metadata": {},
   "outputs": [],
   "source": [
    "\n",
    "dup_df = dup_df.sort_values(by=[\"person_id\", \"observation_concept_id\", \"value_as_concept_id\", \n",
    "                                \"observation_date\", \"observation_type_concept_id\", \"value_as_number\",\n",
    "                                \"observation_source_value\", \"observation_source_concept_id\"])\n"
   ]
  },
  {
   "cell_type": "code",
   "execution_count": null,
   "metadata": {},
   "outputs": [],
   "source": [
    "dup_df = dup_df[dup_df.duplicated(subset=[\"person_id\", \"observation_concept_id\", \"observation_date\",\n",
    "                                          \"observation_datetime\", \"observation_type_concept_id\",\n",
    "                                          \"value_as_number\", \"value_as_string\", \"value_as_concept_id\",\n",
    "                                          \"qualifier_concept_id\", \"unit_concept_id\", \"provider_id\",\n",
    "                                          \"visit_occurrence_id\", \"observation_source_value\",\n",
    "                                          \"observation_source_concept_id\", \"unit_source_value\",\n",
    "                                          \"qualifier_source_value\", \"value_source_concept_id\",\n",
    "                                          \"value_source_value\", \"questionnaire_response_id\"], keep=False)]\n"
   ]
  },
  {
   "cell_type": "code",
   "execution_count": null,
   "metadata": {},
   "outputs": [],
   "source": [
    "dup_df = dup_df.sort_values(by=[\"observation_date\", \"observation_type_concept_id\", \"observation_source_value\",\n",
    "                                \"value_as_number\", \"observation_source_concept_id\"])\n"
   ]
  },
  {
   "cell_type": "code",
   "execution_count": null,
   "metadata": {},
   "outputs": [],
   "source": [
    "dup_observation = tuple(list(dup_df['observation_id']))\n"
   ]
  },
  {
   "cell_type": "code",
   "execution_count": null,
   "metadata": {},
   "outputs": [],
   "source": [
    "######################################\n",
    "print('Deleting the data from the database...')\n",
    "######################################\n",
    "\n",
    "dup_df = pd.io.gbq.read_gbq('''\n",
    "    DELETE\n",
    "    FROM\n",
    "       `{}.observation` AS t1\n",
    "    WHERE\n",
    "        person_id IN  {}\n",
    "    '''.format(DATASET, dup_observation),\n",
    "                    dialect='standard')\n"
   ]
  },
  {
   "cell_type": "code",
   "execution_count": null,
   "metadata": {},
   "outputs": [],
   "source": []
  }
 ],
 "metadata": {
  "kernelspec": {
   "display_name": "Python 2",
   "language": "python",
   "name": "python2"
  },
  "language_info": {
   "codemirror_mode": {
    "name": "ipython",
    "version": 2
   },
   "file_extension": ".py",
   "mimetype": "text/x-python",
   "name": "python",
   "nbconvert_exporter": "python",
   "pygments_lexer": "ipython2",
   "version": "2.7.13"
  },
  "toc": {
   "base_numbering": 1.0,
   "nav_menu": {},
   "number_sections": true,
   "sideBar": true,
   "skip_h1_title": false,
   "title_cell": "Table of Contents",
   "title_sidebar": "Contents",
   "toc_cell": false,
   "toc_position": {},
   "toc_section_display": true,
   "toc_window_display": false
  }
 },
 "nbformat": 4,
 "nbformat_minor": 2
}
