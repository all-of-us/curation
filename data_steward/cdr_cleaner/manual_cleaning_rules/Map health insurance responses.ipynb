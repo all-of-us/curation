{
 "cells": [
  {
   "cell_type": "markdown",
   "metadata": {},
   "source": [
    "# REQUIREMENTS\n",
    "- Replace the ```observation_source_value``` and ```observation_source_concept_id``` for all records with ```observation_source_value = HealthInsurance_InsuranceTypeUpdate (ID 43528428, from The Basics)``` with the ```observation_source_value``` and ```observation_source_concept_ids``` for records with ```observation_source_value = Insurance_InsuranceType (ID 1384450, from HCAU)```.\n",
    "\n",
    "\n",
    "- Map the [HCAU] field values to the corresponding [The Basics] fields when replacing. If there are no values in the [HCAU] fields, set [The Basics] fields to NULL."
   ]
  },
  {
   "cell_type": "markdown",
   "metadata": {},
   "source": [
    "## Set up "
   ]
  },
  {
   "cell_type": "code",
   "execution_count": null,
   "metadata": {},
   "outputs": [],
   "source": [
    "# Load Libraries\n",
    "\n",
    "library(plyr) \n",
    "library(dplyr)\n",
    "library(tidyr)\n",
    "library(reticulate)\n",
    "library(crayon)"
   ]
  },
  {
   "cell_type": "code",
   "execution_count": null,
   "metadata": {},
   "outputs": [],
   "source": [
    "pd = reticulate::import(\"pandas\")"
   ]
  },
  {
   "cell_type": "code",
   "execution_count": null,
   "metadata": {},
   "outputs": [],
   "source": [
    "PROJECT_ID = ''"
   ]
  },
  {
   "cell_type": "code",
   "execution_count": null,
   "metadata": {},
   "outputs": [],
   "source": [
    "#read as csv the list of PIDS where data needs to be overwritten\n",
    "AC70_pids <- read.csv(\"AC70_PIDs.csv\")"
   ]
  },
  {
   "cell_type": "code",
   "execution_count": null,
   "metadata": {},
   "outputs": [],
   "source": [
    "#removing the 'p' before the ids\n",
    "for (p in 1:length(AC70_pids$PID)) {\n",
    "    AC70_pids$pid[p] <- as.numeric(substring(AC70_pids$PID[p], 2))\n",
    "}"
   ]
  },
  {
   "cell_type": "markdown",
   "metadata": {},
   "source": [
    "## Obtaining dataframes to use in the SQL query\n",
    "- ```obs_pids_notin_list``` is a dataframe of person_ids in ```AC70_pids``` that ***are not** in the observation table when observation_source_concept_id = 43528428. For these, we will replace the corresponding fields in the observation table with NULL--> see below ```overwrite_query1```\n",
    "\n",
    "\n",
    "- ```obs_pids_in_list``` is a dataframe of person_ids in ```AC70_pids``` that ***are*** in the observation table when observation_source_concept_id = 43528428. For these, we will replace the corresponding fields in the observation table with hcau fields (observation_source_concept_id = 1384450)--> see below ```overwrite_query2```"
   ]
  },
  {
   "cell_type": "code",
   "execution_count": null,
   "metadata": {},
   "outputs": [],
   "source": [
    "query1 = \" \n",
    "SELECT * FROM `{}.observation` o WHERE o.observation_source_concept_id = 43528428\" \n",
    "obs_overwrite <- pd$read_gbq(query1 , PROJECT_ID, dialect=\"standard\")"
   ]
  },
  {
   "cell_type": "code",
   "execution_count": null,
   "metadata": {},
   "outputs": [],
   "source": [
    "obs_pids_notin_list <- as.numeric(filter(AC70_pids, !(pid %in% obs_overwrite$person_id))[,2])\n",
    "obs_pids_in_list <- as.numeric(filter(AC70_pids, pid %in% obs_overwrite$person_id))"
   ]
  },
  {
   "cell_type": "code",
   "execution_count": null,
   "metadata": {},
   "outputs": [],
   "source": [
    "cat(crayon::magenta(\"This shows that none of person_ids in [AC70_pids] \n",
    "are in the observation table with observation_source_concept_id = 1384450 table).They are not in the hcau table either.\"))"
   ]
  },
  {
   "cell_type": "markdown",
   "metadata": {},
   "source": [
    "# THIS IS THE QUERY THAT WILL UPDATE THE FIELDS TO HCAU FIELDS- \n"
   ]
  },
  {
   "cell_type": "code",
   "execution_count": null,
   "metadata": {},
   "outputs": [],
   "source": [
    "\n",
    "overwrite_query1 = sprintf(\"\n",
    "UPDATE `{}.observation` \n",
    "    SET  observation_id = NULL,\n",
    "         person_id = person_id,\n",
    "         observation_concept_id = NULL,\n",
    "         observation_date = NULL,\n",
    "         observation_datetime = NULL,\n",
    "         observation_type_concept_id = NULL,\n",
    "         value_as_number = NULL,\n",
    "         value_as_string = NULL,\n",
    "         value_as_concept_id = NULL,\n",
    "         qualifier_concept_id = NULL,\n",
    "         unit_concept_id = NULL,\n",
    "         provider_id = NULL,\n",
    "         visit_occurrence_id = NULL,\n",
    "         observation_source_value = NULL,\n",
    "         observation_source_concept_id = NULL,\n",
    "         unit_source_value = NULL,\n",
    "         qualifier_source_value = NULL,\n",
    "         value_source_concept_id = NULL,\n",
    "         value_source_value = NULL,\n",
    "         questionnaire_response_id = NULL\n",
    "    WHERE observation_source_concept_id = 43528428\n",
    "    AND person_id IN (%s)\",obs_pids_notin_list)\n",
    "\n",
    "update1_observation_table <- pd$read_gbq(overwrite_query1 , PROJECT_ID, dialect=\"standard\")\n"
   ]
  },
  {
   "cell_type": "code",
   "execution_count": null,
   "metadata": {},
   "outputs": [],
   "source": [
    "#This query gives an error because [obs_pids_in_list] is empty as said earlier. \n",
    "#This should not be a problem when curation loads the correct list of pids in [AC70_pids <- read.csv(\"AC70_PIDs.csv\")]\n",
    "\n",
    "overwrite_query2 = sprintf(\"\n",
    "UPDATE `{}.observation` as o\n",
    "    SET  o.observation_id = hcau.observation_id,\n",
    "         o.person_id = o.person_id,\n",
    "         o.observation_concept_id = hcau.observation_concept_id,\n",
    "         o.observation_date = hcau.observation_date,\n",
    "         o.observation_datetime = hcau.observation_datetime,\n",
    "         o.observation_type_concept_id = hcau.observation_type_concept_id,\n",
    "         o.value_as_number = hcau.value_as_number,\n",
    "         o.value_as_string = hcau.value_as_string,\n",
    "         o.value_as_concept_id = hcau.value_as_concept_id,\n",
    "         o.qualifier_concept_id = hcau.qualifier_concept_id,\n",
    "         o.unit_concept_id = hcau.unit_concept_id,\n",
    "         o.provider_id = hcau.provider_id,\n",
    "         o.visit_occurrence_id = hcau.visit_occurrence_id,\n",
    "         o.observation_source_value = hcau.observation_source_value,\n",
    "         o.observation_source_concept_id = hcau.observation_source_concept_id,\n",
    "         o.unit_source_value = hcau.unit_source_value,\n",
    "         o.qualifier_source_value = hcau.qualifier_source_value,\n",
    "         o.value_source_concept_id = hcau.value_source_concept_id,\n",
    "         o.value_source_value = hcau.value_source_value,\n",
    "         o.questionnaire_response_id = hcau.questionnaire_response_id\n",
    "    FROM (SELECT * FROM `{}.observation`h WHERE h.observation_source_concept_id = 1384450) as hcau \n",
    "    WHERE o.observation_source_concept_id = 43528428 AND o.person_id IN (%s)\", obs_pids_in_list)\n",
    "\n",
    "update2_observation_table <- pd$read_gbq(overwrite_query2 , PROJECT_ID, dialect=\"standard\")\n"
   ]
  },
  {
   "cell_type": "code",
   "execution_count": null,
   "metadata": {},
   "outputs": [],
   "source": []
  }
 ],
 "metadata": {
  "kernelspec": {
   "display_name": "Python 2",
   "language": "python",
   "name": "python2"
  },
  "language_info": {
   "codemirror_mode": {
    "name": "ipython",
    "version": 2
   },
   "file_extension": ".py",
   "mimetype": "text/x-python",
   "name": "python",
   "nbconvert_exporter": "python",
   "pygments_lexer": "ipython2",
   "version": "2.7.13"
  },
  "toc": {
   "base_numbering": 1.0,
   "nav_menu": {},
   "number_sections": true,
   "sideBar": true,
   "skip_h1_title": false,
   "title_cell": "Table of Contents",
   "title_sidebar": "Contents",
   "toc_cell": false,
   "toc_position": {},
   "toc_section_display": true,
   "toc_window_display": false
  }
 },
 "nbformat": 4,
 "nbformat_minor": 2
}
