{
 "cells": [
  {
   "cell_type": "code",
   "execution_count": null,
   "metadata": {
    "collapsed": true
   },
   "outputs": [],
   "source": [
    "import pandas as pd\n",
    "from google.cloud import bigquery\n",
    "client = bigquery.Client()\n",
    "DATASET = ''\n",
    "FILE_ID = ''\n",
    "\n",
    "# Configure the external data source and query job\n",
    "external_config = bigquery.ExternalConfig('CSV')\n",
    "external_config.source_uris = [\n",
    "    '{file_name}'.format(file_name=FILE_ID),\n",
    "]\n",
    "external_config.schema = [\n",
    "    bigquery.SchemaField('measurement_concept_id', 'INTEGER'),\n",
    "    bigquery.SchemaField('unit_concept_id', 'INTEGER'),\n",
    "    bigquery.SchemaField('set_unit_concept_id', 'INTEGER'),\n",
    "    bigquery.SchemaField('transform_value_as_number', 'STRING')\n",
    "]\n",
    "external_config.options.skip_leading_rows = 1  # optionally skip header row\n",
    "table_id = 'unit_mapping'"
   ]
  },
  {
   "cell_type": "code",
   "execution_count": null,
   "outputs": [],
   "source": [],
   "metadata": {
    "collapsed": false,
    "pycharm": {
     "name": "#%%\n"
    }
   }
  },
  {
   "cell_type": "code",
   "execution_count": null,
   "outputs": [],
   "source": [
    "# query to join measurement data to the unit_mapping\n",
    "sql = '''SELECT count(*) FROM `{}` \n",
    "join `aou-res-curation-output-prod.R2019Q2R1.measurement` using (measurement_concept_id, unit_concept_id)\n",
    "where unit_concept_id!=set_unit_concept_id\n",
    "'''.format(table_id)\n"
   ],
   "metadata": {
    "collapsed": false,
    "pycharm": {
     "name": "#%%\n"
    }
   }
  },
  {
   "cell_type": "code",
   "execution_count": null,
   "outputs": [],
   "source": [
    "job_config = bigquery.QueryJobConfig()\n",
    "job_config.table_definitions = {table_id: external_config}\n",
    "query_job = client.query(sql, job_config=job_config)  # API request"
   ],
   "metadata": {
    "collapsed": false,
    "pycharm": {
     "name": "#%%\n"
    }
   }
  },
  {
   "cell_type": "code",
   "execution_count": null,
   "outputs": [],
   "source": [
    "results = query_job.to_dataframe()  # Waits for query to finish\n",
    "results\n"
   ],
   "metadata": {
    "collapsed": false,
    "pycharm": {
     "name": "#%%\n"
    }
   }
  },
  {
   "cell_type": "code",
   "execution_count": null,
   "outputs": [],
   "source": [
    "# query to join measurement data to the unit_mapping and do the work\n",
    "sql = '''SELECT\n",
    "  measurement_id,\n",
    "  person_id,\n",
    "  measurement_concept_id,\n",
    "  measurement_date,\n",
    "  measurement_datetime,\n",
    "  measurement_type_concept_id,\n",
    "  operator_concept_id,\n",
    "  CASE transform_value_as_number\n",
    "    WHEN \"(1/x)\" THEN IF (value_as_number = 0, 0, 1/value_as_number)\n",
    "    WHEN \"(x-32)*(5/9)\" THEN (value_as_number-32)*(5/9)\n",
    "    WHEN \"*0.02835\" THEN value_as_number * 0.02835\n",
    "    WHEN \"*0.394\" THEN value_as_number * 0.394\n",
    "    WHEN \"*0.4536\" THEN value_as_number * 0.4536\n",
    "    WHEN \"*1\" THEN value_as_number * 1\n",
    "    WHEN \"*10\" THEN value_as_number * 10\n",
    "    WHEN \"*10^(-1)\" THEN value_as_number * 0.1\n",
    "    WHEN \"*10^(-2)\" THEN value_as_number * 0.01\n",
    "    WHEN \"*10^(3)\" THEN value_as_number * 1000\n",
    "    WHEN \"*10^(-3)\" THEN value_as_number * 0.001\n",
    "    WHEN \"*10^(6)\" THEN value_as_number * 1000000\n",
    "    WHEN \"*10^(-6)\" THEN value_as_number * 0.000001\n",
    "    -- when transform_value_as_number is null due to left join\n",
    "    ELSE value_as_number\n",
    "END\n",
    "  AS value_as_number,\n",
    "  value_as_concept_id,\n",
    "  COALESCE(set_unit_concept_id, unit_concept_id) AS unit_concept_id,\n",
    "  CASE transform_value_as_number\n",
    "    WHEN \"(1/x)\" THEN 1/range_low\n",
    "    WHEN \"(x-32)*(5/9)\" THEN (range_low-32)*(5/9)\n",
    "    WHEN \"*0.02835\" THEN range_low * 0.02835\n",
    "    WHEN \"*0.394\" THEN range_low * 0.394\n",
    "    WHEN \"*0.4536\" THEN range_low * 0.4536\n",
    "    WHEN \"*1\" THEN range_low * 1\n",
    "    WHEN \"*10\" THEN range_low * 10\n",
    "    WHEN \"*10^(-1)\" THEN range_low * 0.1\n",
    "    WHEN \"*10^(-2)\" THEN range_low * 0.01\n",
    "    WHEN \"*10^(3)\" THEN range_low * 1000\n",
    "    WHEN \"*10^(-3)\" THEN range_low * 0.001\n",
    "    WHEN \"*10^(6)\" THEN range_low * 1000000\n",
    "    WHEN \"*10^(-6)\" THEN range_low * 0.000001\n",
    "    -- when transform_value_as_number is null due to left join\n",
    "    ELSE range_low\n",
    "END\n",
    "  AS range_low,\n",
    "  CASE transform_value_as_number\n",
    "    WHEN \"(1/x)\" THEN 1/range_high\n",
    "    WHEN \"(x-32)*(5/9)\" THEN (range_high-32)*(5/9)\n",
    "    WHEN \"*0.02835\" THEN range_high * 0.02835\n",
    "    WHEN \"*0.394\" THEN range_high * 0.394\n",
    "    WHEN \"*0.4536\" THEN range_high * 0.4536\n",
    "    WHEN \"*1\" THEN range_high * 1\n",
    "    WHEN \"*10\" THEN range_high * 10\n",
    "    WHEN \"*10^(-1)\" THEN range_high * 0.1\n",
    "    WHEN \"*10^(-2)\" THEN range_high * 0.01\n",
    "    WHEN \"*10^(3)\" THEN range_high * 1000\n",
    "    WHEN \"*10^(-3)\" THEN range_high * 0.001\n",
    "    WHEN \"*10^(6)\" THEN range_high * 1000000\n",
    "    WHEN \"*10^(-6)\" THEN range_high * 0.000001\n",
    "    -- when transform_value_as_number is null due to left join\n",
    "    ELSE range_high\n",
    "END\n",
    "  AS range_high,\n",
    "  provider_id,\n",
    "  visit_occurrence_id,\n",
    "  measurement_source_value,\n",
    "  measurement_source_concept_id,\n",
    "  unit_source_value,\n",
    "  value_source_value\n",
    "FROM\n",
    "    `{dataset_id}.measurement`\n",
    "LEFT JOIN\n",
    "  `{dataset_id}.unit_mapping`\n",
    "USING\n",
    "  (measurement_concept_id,\n",
    "    unit_concept_id)\n",
    "'''.format(dataset_id=DATASET)\n",
    "#For validation\n",
    "#where transform_value_as_number!='*1'\n",
    "#limit 100"
   ],
   "metadata": {
    "collapsed": false,
    "pycharm": {
     "name": "#%%\n"
    }
   }
  },
  {
   "cell_type": "code",
   "execution_count": null,
   "outputs": [],
   "source": [
    "job_config = bigquery.QueryJobConfig()\n",
    "job_config.table_definitions = {table_id: external_config}\n",
    "query_job = client.query(sql, job_config=job_config)  # API request\n"
   ],
   "metadata": {
    "collapsed": false,
    "pycharm": {
     "name": "#%%\n"
    }
   }
  },
  {
   "cell_type": "code",
   "execution_count": null,
   "outputs": [],
   "source": [
    "results = query_job.to_dataframe()  # Waits for query to finish\n",
    "results\n"
   ],
   "metadata": {
    "collapsed": false,
    "pycharm": {
     "name": "#%%\n"
    }
   }
  }
 ],
 "metadata": {
  "kernelspec": {
   "display_name": "Python 2",
   "language": "python",
   "name": "python2"
  },
  "language_info": {
   "codemirror_mode": {
    "name": "ipython",
    "version": 2
   },
   "file_extension": ".py",
   "mimetype": "text/x-python",
   "name": "python",
   "nbconvert_exporter": "python",
   "pygments_lexer": "ipython2",
   "version": "2.7.6"
  },
  "pycharm": {
   "stem_cell": {
    "cell_type": "raw",
    "source": [],
    "metadata": {
     "collapsed": false
    }
   }
  }
 },
 "nbformat": 4,
 "nbformat_minor": 0
}