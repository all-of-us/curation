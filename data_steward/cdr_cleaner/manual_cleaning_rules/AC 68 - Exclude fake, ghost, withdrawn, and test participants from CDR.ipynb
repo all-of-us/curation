{
 "cells": [
  {
   "cell_type": "code",
   "execution_count": null,
   "metadata": {},
   "outputs": [],
   "source": [
    "#######################################\n",
    "print('Setting everything up...')\n",
    "#######################################\n",
    "\n",
    "import warnings\n",
    "warnings.filterwarnings('ignore')\n",
    "\n",
    "import pandas as pd\n",
    "import numpy as np\n",
    "import matplotlib\n",
    "import matplotlib.pyplot as plt\n",
    "import matplotlib.lines as mlines\n",
    "from matplotlib.lines import Line2D\n",
    "\n",
    "import matplotlib.ticker as ticker\n",
    "import matplotlib.cm as cm\n",
    "import matplotlib as mpl\n",
    "\n",
    "import matplotlib.pyplot as plt\n",
    "%matplotlib inline\n",
    "import seaborn as sns\n",
    "\n",
    "import os\n",
    "import sys\n",
    "from datetime import datetime\n",
    "from datetime import date\n",
    "from datetime import time\n",
    "from datetime import timedelta\n",
    "import time\n",
    "\n",
    "import seaborn as sns\n",
    "plt.style.use('ggplot')\n",
    "pd.options.display.max_rows = 999\n",
    "pd.options.display.max_columns = 999\n",
    "pd.options.display.max_colwidth = 999\n",
    "\n",
    "from IPython.display import HTML as html_print\n",
    "\n",
    "DATASET = ''\n",
    "\n",
    "\n",
    "def cstr(s, color='black'):\n",
    "    return \"<text style=color:{}>{}</text>\".format(color, s)\n",
    "\n",
    "\n",
    "print('done.')\n"
   ]
  },
  {
   "cell_type": "code",
   "execution_count": null,
   "metadata": {},
   "outputs": [],
   "source": [
    "# Remove duplicates from CDR - observation table\n",
    "dup_pids = ()\n",
    "delete_observation_dup = \"\"\"\n",
    "\n",
    "DELETE\n",
    "FROM `{}.observation`\n",
    "where person_id in {}\n",
    "\n",
    "\"\"\".format(DATASET, dup_pids)\n",
    "\n",
    "delete_observation_dup = pd.read_gbq(delete_observation_dup, dialect=\"standard\")\n"
   ]
  },
  {
   "cell_type": "code",
   "execution_count": null,
   "metadata": {},
   "outputs": [],
   "source": [
    "# Remove ghost, test, and fake participants from CDR - observation table\n",
    "gtf_pids = ()\n",
    "delete_observation_gtf = \"\"\"\n",
    "\n",
    "DELETE\n",
    "FROM `{}.observation`\n",
    "where person_id in {}\n",
    "\n",
    "\"\"\".format(DATASET, gtf_pids)\n",
    "\n",
    "delete_observation_gtf = pd.read_gbq(delete_observation_gtf, dialect=\"standard\")\n"
   ]
  }
 ],
 "metadata": {
  "kernelspec": {
   "display_name": "Python 2",
   "language": "python",
   "name": "python2"
  },
  "language_info": {
   "codemirror_mode": {
    "name": "ipython",
    "version": 2
   },
   "file_extension": ".py",
   "mimetype": "text/x-python",
   "name": "python",
   "nbconvert_exporter": "python",
   "pygments_lexer": "ipython2",
   "version": "2.7.13"
  }
 },
 "nbformat": 4,
 "nbformat_minor": 2
}
